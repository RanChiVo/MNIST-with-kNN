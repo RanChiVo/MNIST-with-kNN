{
 "cells": [
  {
   "cell_type": "code",
   "execution_count": 1,
   "metadata": {},
   "outputs": [
    {
     "name": "stderr",
     "output_type": "stream",
     "text": [
      "Using TensorFlow backend.\n"
     ]
    }
   ],
   "source": [
    "from matplotlib import pyplot as plt\n",
    "from sklearn import datasets, metrics\n",
    "from sklearn.neighbors import KNeighborsClassifier\n",
    "from keras.datasets import mnist\n",
    "import time\n",
    "import pandas as pd\n",
    "import pickle"
   ]
  },
  {
   "cell_type": "code",
   "execution_count": 2,
   "metadata": {},
   "outputs": [
    {
     "name": "stdout",
     "output_type": "stream",
     "text": [
      "(60000, 28, 28)\n",
      "(10000, 28, 28)\n"
     ]
    }
   ],
   "source": [
    "# Load data\n",
    "(img_train, val_train), (img_test, val_test) = mnist.load_data()\n",
    "print(img_train.shape)\n",
    "print(img_test.shape)"
   ]
  },
  {
   "cell_type": "code",
   "execution_count": 3,
   "metadata": {},
   "outputs": [
    {
     "name": "stdout",
     "output_type": "stream",
     "text": [
      "(60000, 784)\n",
      "Training 1-NN with chebyshev distance algorithm\n",
      "Training time: 24.527894020080566 seconds\n",
      "1-NNchebyshev.sav saved\n",
      "\n",
      "Training 3-NN with chebyshev distance algorithm\n",
      "Training time: 23.914885997772217 seconds\n",
      "3-NNchebyshev.sav saved\n",
      "\n",
      "Training 5-NN with chebyshev distance algorithm\n",
      "Training time: 21.924160957336426 seconds\n",
      "5-NNchebyshev.sav saved\n",
      "\n",
      "Training 7-NN with chebyshev distance algorithm\n",
      "Training time: 24.064300060272217 seconds\n",
      "7-NNchebyshev.sav saved\n",
      "\n",
      "Training 9-NN with chebyshev distance algorithm\n",
      "Training time: 23.21045708656311 seconds\n",
      "9-NNchebyshev.sav saved\n",
      "\n",
      "Training 11-NN with chebyshev distance algorithm\n",
      "Training time: 24.015382051467896 seconds\n",
      "11-NNchebyshev.sav saved\n",
      "\n",
      "Training 13-NN with chebyshev distance algorithm\n",
      "Training time: 21.0008807182312 seconds\n",
      "13-NNchebyshev.sav saved\n",
      "\n",
      "Training 15-NN with chebyshev distance algorithm\n",
      "Training time: 24.549458980560303 seconds\n",
      "15-NNchebyshev.sav saved\n",
      "\n",
      "Training 17-NN with chebyshev distance algorithm\n",
      "Training time: 24.41989803314209 seconds\n",
      "17-NNchebyshev.sav saved\n",
      "\n",
      "Training 19-NN with chebyshev distance algorithm\n",
      "Training time: 22.693344116210938 seconds\n",
      "19-NNchebyshev.sav saved\n",
      "\n",
      "Training 21-NN with chebyshev distance algorithm\n",
      "Training time: 26.446592807769775 seconds\n",
      "21-NNchebyshev.sav saved\n",
      "\n",
      "Training 23-NN with chebyshev distance algorithm\n",
      "Training time: 26.478557109832764 seconds\n",
      "23-NNchebyshev.sav saved\n",
      "\n",
      "Training 25-NN with chebyshev distance algorithm\n",
      "Training time: 26.428957223892212 seconds\n",
      "25-NNchebyshev.sav saved\n",
      "\n",
      "Training 27-NN with chebyshev distance algorithm\n",
      "Training time: 26.45948314666748 seconds\n",
      "27-NNchebyshev.sav saved\n",
      "\n",
      "Training 29-NN with chebyshev distance algorithm\n",
      "Training time: 22.634276151657104 seconds\n",
      "29-NNchebyshev.sav saved\n",
      "\n",
      "Train complete\n"
     ]
    }
   ],
   "source": [
    "# Convert Image (matrix) to vectors\n",
    "n = len(img_train)\n",
    "data = img_train.reshape(n, -1)\n",
    "print(data.shape)\n",
    "\n",
    "# Declare and asign values for variable\n",
    "max_k = 29\n",
    "dist_algorithm = 'chebyshev'\n",
    "index_name = []\n",
    "train_time = []\n",
    "predict_time = []\n",
    "accurancy = []\n",
    "headers = ['Training time', 'Predict time', 'Accurancy']\n",
    "\n",
    "# Training\n",
    "for k in range (1, max_k+1, 2):\n",
    "    print('Training ' + str(k) + '-NN with ' + dist_algorithm + ' distance algorithm')\n",
    "    index_name.append(str(k) + '-NN')\n",
    "\n",
    "    # create knn classifier\n",
    "    start = time.time()\n",
    "    knn = KNeighborsClassifier(algorithm='auto', metric=dist_algorithm, p=2, n_neighbors=k)\n",
    "    knn.fit(data, val_train)\n",
    "    end = time.time()\n",
    "    print(\"Training time: %s seconds\" %str(end - start))\n",
    "    train_time.append(round(end-start,2))\n",
    "\n",
    "    # Save model\n",
    "    filename = str(k) + '-NN' + dist_algorithm + '.sav'\n",
    "    pickle.dump(knn, open(filename, 'wb'))\n",
    "    print('%s saved\\n' %filename)\n",
    "print('Train complete')"
   ]
  },
  {
   "cell_type": "code",
   "execution_count": null,
   "metadata": {},
   "outputs": [],
   "source": [
    "# Convert test image (matrix) to vectors\n",
    "n = len(img_test)\n",
    "test_data = img_test.reshape(n, -1)\n",
    "\n",
    "# Predict data\n",
    "for k in range(1, max_k+1, 2):\n",
    "    filename = str(k) + '-NN' + dist_algorithm + '.sav'\n",
    "    loaded_knn = pickle.load(open(filename, 'rb'))\n",
    "    \n",
    "    start = time.time()\n",
    "    print('Predicting ' + str(k) + '-NN')\n",
    "    predicted = loaded_knn.predict(test_data)\n",
    "    print(len(predicted))\n",
    "    end = time.time()\n",
    "    print(\"Predict time: %s seconds\" %str(end-start))\n",
    "    predict_time.append(round(end-start,2))\n",
    "    \n",
    "    #Calculate accuracy average\n",
    "    num_correct = 0\n",
    "    for i in range (0, len(val_test)):\n",
    "        if val_test [i] == predicted [i]:\n",
    "            num_correct += 1\n",
    "    accurancy.append(float(num_correct / float(len(val_test))))\n",
    "print('Predict complete')\n",
    "\n",
    "# save result\n",
    "list_of_result = list(zip(train_time, predict_time, accuracy))\n",
    "df = pd.DataFrame(list_of_result, columns=headers, index=index_name)\n",
    "print(df)\n",
    "df.to_csv('result.csv', sep=',')"
   ]
  }
 ],
 "metadata": {
  "kernelspec": {
   "display_name": "Python 3",
   "language": "python",
   "name": "python3"
  },
  "language_info": {
   "codemirror_mode": {
    "name": "ipython",
    "version": 3
   },
   "file_extension": ".py",
   "mimetype": "text/x-python",
   "name": "python",
   "nbconvert_exporter": "python",
   "pygments_lexer": "ipython3",
   "version": "3.6.8"
  }
 },
 "nbformat": 4,
 "nbformat_minor": 2
}
