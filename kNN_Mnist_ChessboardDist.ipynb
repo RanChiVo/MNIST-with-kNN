{
 "cells": [
  {
   "cell_type": "code",
   "execution_count": 3,
   "metadata": {},
   "outputs": [
    {
     "name": "stderr",
     "output_type": "stream",
     "text": [
      "Using TensorFlow backend.\n"
     ]
    }
   ],
   "source": [
    "from matplotlib import pyplot as plt\n",
    "from sklearn import datasets, metrics\n",
    "from sklearn.neighbors import KNeighborsClassifier\n",
    "from keras.datasets import mnist\n",
    "import time\n",
    "import pandas as pd\n",
    "import pickle"
   ]
  },
  {
   "cell_type": "code",
   "execution_count": 4,
   "metadata": {},
   "outputs": [
    {
     "name": "stdout",
     "output_type": "stream",
     "text": [
      "(60000, 28, 28)\n",
      "(10000, 28, 28)\n"
     ]
    }
   ],
   "source": [
    "# Load data\n",
    "(img_train, val_train), (img_test, val_test) = mnist.load_data()\n",
    "print(img_train.shape)\n",
    "print(img_test.shape)"
   ]
  },
  {
   "cell_type": "code",
   "execution_count": 5,
   "metadata": {},
   "outputs": [
    {
     "name": "stdout",
     "output_type": "stream",
     "text": [
      "(60000, 784)\n",
      "Training 1-NN with chebyshev distance algorithm\n",
      "Training time: 23.437156200408936 seconds\n",
      "1-NNchebyshev.sav saved\n",
      "\n",
      "Training 3-NN with chebyshev distance algorithm\n",
      "Training time: 22.335971117019653 seconds\n",
      "3-NNchebyshev.sav saved\n",
      "\n",
      "Training 5-NN with chebyshev distance algorithm\n",
      "Training time: 22.98640203475952 seconds\n",
      "5-NNchebyshev.sav saved\n",
      "\n",
      "Training 7-NN with chebyshev distance algorithm\n",
      "Training time: 20.913590908050537 seconds\n",
      "7-NNchebyshev.sav saved\n",
      "\n",
      "Training 9-NN with chebyshev distance algorithm\n",
      "Training time: 25.460252285003662 seconds\n",
      "9-NNchebyshev.sav saved\n",
      "\n",
      "Training 11-NN with chebyshev distance algorithm\n",
      "Training time: 25.87964701652527 seconds\n",
      "11-NNchebyshev.sav saved\n",
      "\n",
      "Training 13-NN with chebyshev distance algorithm\n",
      "Training time: 29.480480909347534 seconds\n",
      "13-NNchebyshev.sav saved\n",
      "\n",
      "Training 15-NN with chebyshev distance algorithm\n",
      "Training time: 23.682814836502075 seconds\n",
      "15-NNchebyshev.sav saved\n",
      "\n",
      "Training 17-NN with chebyshev distance algorithm\n",
      "Training time: 21.93038272857666 seconds\n",
      "17-NNchebyshev.sav saved\n",
      "\n",
      "Training 19-NN with chebyshev distance algorithm\n",
      "Training time: 21.660587072372437 seconds\n",
      "19-NNchebyshev.sav saved\n",
      "\n",
      "Training 21-NN with chebyshev distance algorithm\n",
      "Training time: 21.62454128265381 seconds\n",
      "21-NNchebyshev.sav saved\n",
      "\n",
      "Training 23-NN with chebyshev distance algorithm\n",
      "Training time: 23.559391975402832 seconds\n",
      "23-NNchebyshev.sav saved\n",
      "\n",
      "Training 25-NN with chebyshev distance algorithm\n",
      "Training time: 23.492300033569336 seconds\n",
      "25-NNchebyshev.sav saved\n",
      "\n",
      "Training 27-NN with chebyshev distance algorithm\n",
      "Training time: 23.450364112854004 seconds\n",
      "27-NNchebyshev.sav saved\n",
      "\n",
      "Training 29-NN with chebyshev distance algorithm\n",
      "Training time: 23.47742795944214 seconds\n",
      "29-NNchebyshev.sav saved\n",
      "\n",
      "Train complete\n"
     ]
    }
   ],
   "source": [
    "# Convert Image (matrix) to vectors\n",
    "n = len(img_train)\n",
    "data = img_train.reshape(n, -1)\n",
    "print(data.shape)\n",
    "\n",
    "# Declare and asign values for variable\n",
    "max_k = 29\n",
    "dist_algorithm = 'chebyshev'\n",
    "index_name = []\n",
    "train_time = []\n",
    "predict_time = []\n",
    "accuracy = []\n",
    "headers = ['Training time', 'Predict time', 'Accuracy']\n",
    "\n",
    "# Training\n",
    "for k in range (1, max_k+1, 2):\n",
    "    print('Training ' + str(k) + '-NN with ' + dist_algorithm + ' distance algorithm')\n",
    "    index_name.append(str(k) + '-NN')\n",
    "\n",
    "    # create knn classifier\n",
    "    start = time.time()\n",
    "    knn = KNeighborsClassifier(algorithm='auto', metric=dist_algorithm, p=2, n_neighbors=k)\n",
    "    knn.fit(data, val_train)\n",
    "    end = time.time()\n",
    "    print(\"Training time: %s seconds\" %str(end - start))\n",
    "    train_time.append(round(end-start,2))\n",
    "\n",
    "    # Save model\n",
    "    filename = str(k) + '-NN' + dist_algorithm + '.sav'\n",
    "    pickle.dump(knn, open(filename, 'wb'))\n",
    "    print('%s saved\\n' %filename)\n",
    "print('Train complete')"
   ]
  },
  {
   "cell_type": "code",
   "execution_count": 6,
   "metadata": {},
   "outputs": [
    {
     "name": "stdout",
     "output_type": "stream",
     "text": [
      "Predicting 1-NN\n",
      "10000\n",
      "Predict time: 692.4571189880371 seconds\n",
      "Predicting 3-NN\n",
      "10000\n",
      "Predict time: 733.4472541809082 seconds\n",
      "Predicting 5-NN\n",
      "10000\n",
      "Predict time: 763.0604660511017 seconds\n",
      "Predicting 7-NN\n",
      "10000\n",
      "Predict time: 676.8932678699493 seconds\n",
      "Predicting 9-NN\n",
      "10000\n",
      "Predict time: 665.5059099197388 seconds\n",
      "Predicting 11-NN\n",
      "10000\n",
      "Predict time: 665.9005959033966 seconds\n",
      "Predicting 13-NN\n",
      "10000\n",
      "Predict time: 670.3112831115723 seconds\n",
      "Predicting 15-NN\n",
      "10000\n",
      "Predict time: 657.0918228626251 seconds\n",
      "Predicting 17-NN\n",
      "10000\n",
      "Predict time: 691.3494699001312 seconds\n",
      "Predicting 19-NN\n",
      "10000\n",
      "Predict time: 711.113322019577 seconds\n",
      "Predicting 21-NN\n",
      "10000\n",
      "Predict time: 719.5016930103302 seconds\n",
      "Predicting 23-NN\n",
      "10000\n",
      "Predict time: 663.0905690193176 seconds\n",
      "Predicting 25-NN\n",
      "10000\n",
      "Predict time: 672.8677198886871 seconds\n",
      "Predicting 27-NN\n",
      "10000\n",
      "Predict time: 674.5666410923004 seconds\n",
      "Predicting 29-NN\n",
      "10000\n",
      "Predict time: 674.0396251678467 seconds\n",
      "Predict complete\n"
     ]
    }
   ],
   "source": [
    "# Convert test image (matrix) to vectors\n",
    "n = len(img_test)\n",
    "test_data = img_test.reshape(n, -1)\n",
    "\n",
    "# Predict data\n",
    "for k in range(1, max_k+1, 2):\n",
    "    filename = str(k) + '-NN' + dist_algorithm + '.sav'\n",
    "    loaded_knn = pickle.load(open(filename, 'rb'))\n",
    "    \n",
    "    start = time.time()\n",
    "    print('Predicting ' + str(k) + '-NN')\n",
    "    predicted = loaded_knn.predict(test_data)\n",
    "    print(len(predicted))\n",
    "    end = time.time()\n",
    "    print(\"Predict time: %s seconds\" %str(end-start))\n",
    "    predict_time.append(round(end-start,2))\n",
    "    \n",
    "    #Calculate accuracy average\n",
    "    num_correct = 0\n",
    "    for i in range (0, len(val_test)):\n",
    "        if val_test [i] == predicted [i]:\n",
    "            num_correct += 1\n",
    "    accuracy.append(float(num_correct / float(len(val_test))))\n",
    "print('Predict complete')"
   ]
  },
  {
   "cell_type": "code",
   "execution_count": 8,
   "metadata": {},
   "outputs": [
    {
     "name": "stdout",
     "output_type": "stream",
     "text": [
      "       Training time  Predict time  Accurancy\n",
      "1-NN           23.44        692.46     0.8271\n",
      "3-NN           22.34        733.45     0.8064\n",
      "5-NN           22.99        763.06     0.8111\n",
      "7-NN           20.91        676.89     0.8092\n",
      "9-NN           25.46        665.51     0.8057\n",
      "11-NN          25.88        665.90     0.8015\n",
      "13-NN          29.48        670.31     0.8018\n",
      "15-NN          23.68        657.09     0.7988\n",
      "17-NN          21.93        691.35     0.7958\n",
      "19-NN          21.66        711.11     0.7943\n",
      "21-NN          21.62        719.50     0.7936\n",
      "23-NN          23.56        663.09     0.7877\n",
      "25-NN          23.49        672.87     0.7874\n",
      "27-NN          23.45        674.57     0.7841\n",
      "29-NN          23.48        674.04     0.7833\n"
     ]
    }
   ],
   "source": [
    "# save result\n",
    "list_of_result = list(zip(train_time, predict_time, accuracy))\n",
    "df = pd.DataFrame(list_of_result, columns=headers, index=index_name)\n",
    "print(df)\n",
    "df.to_csv('result.csv', sep=',')"
   ]
  },
  {
   "cell_type": "code",
   "execution_count": null,
   "metadata": {},
   "outputs": [],
   "source": []
  }
 ],
 "metadata": {
  "kernelspec": {
   "display_name": "Python 3",
   "language": "python",
   "name": "python3"
  },
  "language_info": {
   "codemirror_mode": {
    "name": "ipython",
    "version": 3
   },
   "file_extension": ".py",
   "mimetype": "text/x-python",
   "name": "python",
   "nbconvert_exporter": "python",
   "pygments_lexer": "ipython3",
   "version": "3.6.8"
  }
 },
 "nbformat": 4,
 "nbformat_minor": 2
}
