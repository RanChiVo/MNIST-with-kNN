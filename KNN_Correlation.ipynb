{
 "cells": [
  {
   "cell_type": "code",
   "execution_count": 1,
   "metadata": {},
   "outputs": [
    {
     "name": "stderr",
     "output_type": "stream",
     "text": [
      "Using TensorFlow backend.\n"
     ]
    }
   ],
   "source": [
    "from matplotlib import pyplot as plt\n",
    "from sklearn import datasets, metrics\n",
    "from sklearn.neighbors import KNeighborsClassifier\n",
    "from keras.datasets import mnist\n",
    "import pickle\n",
    "import time\n",
    "import pandas as pd"
   ]
  },
  {
   "cell_type": "code",
   "execution_count": 2,
   "metadata": {},
   "outputs": [
    {
     "name": "stdout",
     "output_type": "stream",
     "text": [
      "(60000, 28, 28)\n",
      "(10000, 28, 28)\n"
     ]
    }
   ],
   "source": [
    "# load data\n",
    "(img_train, val_train),(img_test, val_test) = mnist.load_data()\n",
    "print(img_train.shape)\n",
    "print(img_test.shape)\n",
    "\n",
    "for (int i = 0; i < =60000; i++) :\n",
    "    count[img_train]\n"
   ]
  },
  {
   "cell_type": "code",
   "execution_count": 3,
   "metadata": {},
   "outputs": [
    {
     "name": "stdout",
     "output_type": "stream",
     "text": [
      "(60000, 784)\n"
     ]
    }
   ],
   "source": [
    "# convert images (matrixs) to vectors\n",
    "n = len(img_train)\n",
    "data = img_train.reshape(n, -1)\n",
    "print(data.shape)"
   ]
  },
  {
   "cell_type": "code",
   "execution_count": 4,
   "metadata": {},
   "outputs": [],
   "source": [
    "# declare and asign values for variables\n",
    "max_k = 29\n",
    "dist_algo = 'correlation'\n",
    "index_name = []\n",
    "train_time = []\n",
    "predict_time = []\n",
    "accuracy = []\n",
    "headers = ['train-time','predict-time','accuracy']"
   ]
  },
  {
   "cell_type": "code",
   "execution_count": 10,
   "metadata": {},
   "outputs": [
    {
     "name": "stdout",
     "output_type": "stream",
     "text": [
      "Training 1-NN with correlation distance algorithm\n",
      "Training time: 0.006831169128417969 seconds\n",
      "1-NN correlation.sav saved\n",
      "\n",
      "Training 3-NN with correlation distance algorithm\n",
      "Training time: 0.0058553218841552734 seconds\n",
      "3-NN correlation.sav saved\n",
      "\n",
      "Training 5-NN with correlation distance algorithm\n",
      "Training time: 0.004881858825683594 seconds\n",
      "5-NN correlation.sav saved\n",
      "\n",
      "Training 7-NN with correlation distance algorithm\n",
      "Training time: 0.005854368209838867 seconds\n",
      "7-NN correlation.sav saved\n",
      "\n",
      "Training 9-NN with correlation distance algorithm\n",
      "Training time: 0.004879474639892578 seconds\n",
      "9-NN correlation.sav saved\n",
      "\n",
      "Training 11-NN with correlation distance algorithm\n",
      "Training time: 0.005853414535522461 seconds\n",
      "11-NN correlation.sav saved\n",
      "\n",
      "Training 13-NN with correlation distance algorithm\n",
      "Training time: 0.005854368209838867 seconds\n",
      "13-NN correlation.sav saved\n",
      "\n",
      "Training 15-NN with correlation distance algorithm\n",
      "Training time: 0.005855083465576172 seconds\n",
      "15-NN correlation.sav saved\n",
      "\n",
      "Training 17-NN with correlation distance algorithm\n",
      "Training time: 0.005857706069946289 seconds\n",
      "17-NN correlation.sav saved\n",
      "\n",
      "Training 19-NN with correlation distance algorithm\n",
      "Training time: 0.00683140754699707 seconds\n",
      "19-NN correlation.sav saved\n",
      "\n",
      "Training 21-NN with correlation distance algorithm\n",
      "Training time: 0.0058591365814208984 seconds\n",
      "21-NN correlation.sav saved\n",
      "\n",
      "Training 23-NN with correlation distance algorithm\n",
      "Training time: 0.00487971305847168 seconds\n",
      "23-NN correlation.sav saved\n",
      "\n",
      "Training 25-NN with correlation distance algorithm\n",
      "Training time: 0.0068323612213134766 seconds\n",
      "25-NN correlation.sav saved\n",
      "\n",
      "Training 27-NN with correlation distance algorithm\n",
      "Training time: 0.006832122802734375 seconds\n",
      "27-NN correlation.sav saved\n",
      "\n",
      "Training 29-NN with correlation distance algorithm\n",
      "Training time: 0.005856037139892578 seconds\n",
      "29-NN correlation.sav saved\n",
      "\n",
      "Train complete!\n"
     ]
    }
   ],
   "source": [
    "# training\n",
    "for k in range(1, max_k+1, 2):\n",
    "    print('Training ' + str(k) + '-NN with ' + dist_algo + ' distance algorithm')\n",
    "    index_name.append(str(k) + '-NN')\n",
    "    \n",
    "    # create KNN classifier\n",
    "    start = time.time()\n",
    "    knn = KNeighborsClassifier( metric = dist_algo, p=2, n_neighbors=k)\n",
    "    knn.fit(data, val_train)\n",
    "    end = time.time()\n",
    "    print(\"Training time: %s seconds\" % str(end - start))\n",
    "    train_time.append(round(end-start,2))\n",
    "\n",
    "    # save model\n",
    "    filename = str(k) + '-NN ' + dist_algo + '.sav'\n",
    "    pickle.dump(knn, open(filename, 'wb'))\n",
    "    print(\"%s saved\\n\" %filename)\n",
    "print('Train complete!')"
   ]
  },
  {
   "cell_type": "code",
   "execution_count": 5,
   "metadata": {},
   "outputs": [
    {
     "name": "stdout",
     "output_type": "stream",
     "text": [
      "Complete\n"
     ]
    }
   ],
   "source": [
    "# convert test images (matrixs) to vectors\n",
    "start = time.time()\n",
    "n = len(img_test)\n",
    "test_data = img_test.reshape(n, -1)\n",
    "print('Complete')"
   ]
  },
  {
   "cell_type": "code",
   "execution_count": null,
   "metadata": {
    "scrolled": true
   },
   "outputs": [],
   "source": [
    "# predict data\n",
    "for k in range(1, max_k+1, 2):\n",
    "    filename = str(k) + '-NN ' + dist_algo + '.sav'\n",
    "    loaded_knn = pickle.load(open(filename, 'rb'))\n",
    "    \n",
    "    print('Predicting ' + str(k) + '-NN')\n",
    "    predicted = loaded_knn.predict(test_data)\n",
    "    print(len(predicted))\n",
    "    end = time.time()\n",
    "    print(\"Predict time: %s seconds\" % str(end - start))\n",
    "    predict_time.append(round(end-start,2))\n",
    "    \n",
    "    # calculate accuracy average\n",
    "    num_correct=0\n",
    "    for i in range(0,len(val_test)):\n",
    "        if val_test[i] == predicted[i]:\n",
    "            num_correct +=1\n",
    "    accuracy.append(float(num_correct / float(len(val_test))))\n",
    "print('Predict complete')\n",
    "\n",
    "# save result\n",
    "list_of_result = list(zip(train_time, predict_time, accuracy))\n",
    "df = pd.DataFrame(list_of_result, columns=headers, index=index_name)\n",
    "print(df)\n",
    "df.to_csv('result.csv', sep=',')\n"
   ]
  },
  {
   "cell_type": "code",
   "execution_count": 14,
   "metadata": {},
   "outputs": [
    {
     "name": "stdout",
     "output_type": "stream",
     "text": [
      "Empty DataFrame\n",
      "Columns: [train-time, predict-time, accuracy]\n",
      "Index: []\n"
     ]
    }
   ],
   "source": [
    "# save result\n",
    "list_of_result = list(zip(train_time, predict_time, accuracy))\n",
    "df = pd.DataFrame(list_of_result, columns=headers, index=index_name)\n",
    "print(df)\n",
    "df.to_csv('result.csv', sep=',')"
   ]
  },
  {
   "cell_type": "code",
   "execution_count": null,
   "metadata": {},
   "outputs": [],
   "source": []
  },
  {
   "cell_type": "code",
   "execution_count": null,
   "metadata": {},
   "outputs": [],
   "source": []
  }
 ],
 "metadata": {
  "kernelspec": {
   "display_name": "Python 3",
   "language": "python",
   "name": "python3"
  },
  "language_info": {
   "codemirror_mode": {
    "name": "ipython",
    "version": 3
   },
   "file_extension": ".py",
   "mimetype": "text/x-python",
   "name": "python",
   "nbconvert_exporter": "python",
   "pygments_lexer": "ipython3",
   "version": "3.6.8"
  }
 },
 "nbformat": 4,
 "nbformat_minor": 2
}
