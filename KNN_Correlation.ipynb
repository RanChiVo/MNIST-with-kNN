{
 "cells": [
  {
   "cell_type": "code",
   "execution_count": 1,
   "metadata": {},
   "outputs": [
    {
     "name": "stderr",
     "output_type": "stream",
     "text": [
      "Using TensorFlow backend.\n"
     ]
    }
   ],
   "source": [
    "from matplotlib import pyplot as plt\n",
    "from sklearn import datasets, metrics\n",
    "from sklearn.neighbors import KNeighborsClassifier\n",
    "from keras.datasets import mnist\n",
    "import pickle\n",
    "import time\n",
    "import pandas as pd"
   ]
  },
  {
   "cell_type": "code",
   "execution_count": 10,
   "metadata": {},
   "outputs": [
    {
     "name": "stdout",
     "output_type": "stream",
     "text": [
      "(60000, 28, 28)\n",
      "(10000, 28, 28)\n"
     ]
    }
   ],
   "source": [
    "# load data\n",
    "(img_train, val_train),(img_test, val_test) = mnist.load_data()\n",
    "print(img_train.shape)\n",
    "print(img_test.shape)"
   ]
  },
  {
   "cell_type": "code",
   "execution_count": 11,
   "metadata": {},
   "outputs": [
    {
     "name": "stdout",
     "output_type": "stream",
     "text": [
      "(60000, 784)\n"
     ]
    }
   ],
   "source": [
    "# convert images (matrixs) to vectors\n",
    "n = len(img_train)\n",
    "data = img_train.reshape(n, -1)\n",
    "print(data.shape)"
   ]
  },
  {
   "cell_type": "code",
   "execution_count": 12,
   "metadata": {},
   "outputs": [],
   "source": [
    "# declare and asign values for variables\n",
    "max_k = 29\n",
    "dist_algo = 'correlation'\n",
    "index_name = []\n",
    "train_time = []\n",
    "predict_time = []\n",
    "accuracy = []\n",
    "headers = ['train-time','predict-time','accuracy']"
   ]
  },
  {
   "cell_type": "code",
   "execution_count": 17,
   "metadata": {},
   "outputs": [
    {
     "name": "stdout",
     "output_type": "stream",
     "text": [
      "Training 1-NN with correlation distance algorithm\n",
      "Training time: 0.012965679168701172 seconds\n",
      "1-NN correlation.sav saved\n",
      "\n",
      "Training 3-NN with correlation distance algorithm\n",
      "Training time: 0.004984140396118164 seconds\n",
      "3-NN correlation.sav saved\n",
      "\n",
      "Training 5-NN with correlation distance algorithm\n",
      "Training time: 0.005984067916870117 seconds\n",
      "5-NN correlation.sav saved\n",
      "\n",
      "Training 7-NN with correlation distance algorithm\n",
      "Training time: 0.003988981246948242 seconds\n",
      "7-NN correlation.sav saved\n",
      "\n",
      "Training 9-NN with correlation distance algorithm\n",
      "Training time: 0.006982326507568359 seconds\n",
      "9-NN correlation.sav saved\n",
      "\n",
      "Training 11-NN with correlation distance algorithm\n",
      "Training time: 0.005986213684082031 seconds\n",
      "11-NN correlation.sav saved\n",
      "\n",
      "Training 13-NN with correlation distance algorithm\n",
      "Training time: 0.00498509407043457 seconds\n",
      "13-NN correlation.sav saved\n",
      "\n",
      "Training 15-NN with correlation distance algorithm\n",
      "Training time: 0.0059850215911865234 seconds\n",
      "15-NN correlation.sav saved\n",
      "\n",
      "Training 17-NN with correlation distance algorithm\n",
      "Training time: 0.005984067916870117 seconds\n",
      "17-NN correlation.sav saved\n",
      "\n",
      "Training 19-NN with correlation distance algorithm\n",
      "Training time: 0.005983591079711914 seconds\n",
      "19-NN correlation.sav saved\n",
      "\n",
      "Training 21-NN with correlation distance algorithm\n",
      "Training time: 0.006981372833251953 seconds\n",
      "21-NN correlation.sav saved\n",
      "\n",
      "Training 23-NN with correlation distance algorithm\n",
      "Training time: 0.00498509407043457 seconds\n",
      "23-NN correlation.sav saved\n",
      "\n",
      "Training 25-NN with correlation distance algorithm\n",
      "Training time: 0.005985260009765625 seconds\n",
      "25-NN correlation.sav saved\n",
      "\n",
      "Training 27-NN with correlation distance algorithm\n",
      "Training time: 0.005984783172607422 seconds\n",
      "27-NN correlation.sav saved\n",
      "\n",
      "Training 29-NN with correlation distance algorithm\n",
      "Training time: 0.006982564926147461 seconds\n",
      "29-NN correlation.sav saved\n",
      "\n",
      "Train complete!\n"
     ]
    }
   ],
   "source": [
    "# training\n",
    "for k in range(1, max_k+1, 2):\n",
    "    print('Training ' + str(k) + '-NN with ' + dist_algo + ' distance algorithm')\n",
    "    index_name.append(str(k) + '-NN')\n",
    "    \n",
    "    # create KNN classifier\n",
    "    start = time.time()\n",
    "    knn = KNeighborsClassifier( metric = dist_algo, p=2, n_neighbors=k)\n",
    "    knn.fit(data, val_train)\n",
    "    end = time.time()\n",
    "    print(\"Training time: %s seconds\" % str(end - start))\n",
    "    train_time.append(round(end-start,2))\n",
    "\n",
    "    # save model\n",
    "    filename = str(k) + '-NN ' + dist_algo + '.sav'\n",
    "    pickle.dump(knn, open(filename, 'wb'))\n",
    "    print(\"%s saved\\n\" %filename)\n",
    "print('Train complete!')"
   ]
  },
  {
   "cell_type": "code",
   "execution_count": 13,
   "metadata": {},
   "outputs": [
    {
     "name": "stdout",
     "output_type": "stream",
     "text": [
      "Complete\n"
     ]
    }
   ],
   "source": [
    "# convert test images (matrixs) to vectors\n",
    "n = len(img_test)\n",
    "test_data = img_test.reshape(n, -1)\n",
    "print('Complete')"
   ]
  },
  {
   "cell_type": "code",
   "execution_count": 14,
   "metadata": {
    "scrolled": false
   },
   "outputs": [
    {
     "name": "stdout",
     "output_type": "stream",
     "text": [
      "Predicting 1-NN\n",
      "10000\n",
      "Predict time: 772.4620311260223 seconds\n",
      "Predicting 3-NN\n",
      "10000\n",
      "Predict time: 753.1018106937408 seconds\n",
      "Predicting 5-NN\n",
      "10000\n",
      "Predict time: 760.8499455451965 seconds\n",
      "Predicting 7-NN\n",
      "10000\n",
      "Predict time: 748.6160337924957 seconds\n",
      "Predicting 9-NN\n",
      "10000\n",
      "Predict time: 763.3481924533844 seconds\n",
      "Predicting 11-NN\n",
      "10000\n",
      "Predict time: 775.6357386112213 seconds\n",
      "Predicting 13-NN\n",
      "10000\n",
      "Predict time: 777.7914032936096 seconds\n",
      "Predicting 15-NN\n",
      "10000\n",
      "Predict time: 751.9850635528564 seconds\n",
      "Predicting 17-NN\n",
      "10000\n",
      "Predict time: 752.2242879867554 seconds\n",
      "Predicting 19-NN\n",
      "10000\n",
      "Predict time: 767.6641356945038 seconds\n",
      "Predicting 21-NN\n",
      "10000\n",
      "Predict time: 742.8883488178253 seconds\n",
      "Predicting 23-NN\n",
      "10000\n",
      "Predict time: 754.3903229236603 seconds\n",
      "Predicting 25-NN\n",
      "10000\n",
      "Predict time: 761.5255074501038 seconds\n",
      "Predicting 27-NN\n",
      "10000\n",
      "Predict time: 753.4122068881989 seconds\n",
      "Predicting 29-NN\n",
      "10000\n",
      "Predict time: 764.5703656673431 seconds\n",
      "Predict complete\n",
      "Empty DataFrame\n",
      "Columns: [train-time, predict-time, accuracy]\n",
      "Index: []\n"
     ]
    }
   ],
   "source": [
    "# predict data\n",
    "for k in range(1, max_k+1, 2):\n",
    "    filename = str(k) + '-NN ' + dist_algo + '.sav'\n",
    "    loaded_knn = pickle.load(open(filename, 'rb'))\n",
    "    \n",
    "    print('Predicting ' + str(k) + '-NN')\n",
    "    start = time.time()\n",
    "    predicted = loaded_knn.predict(test_data)\n",
    "    end = time.time()\n",
    "    print(len(predicted))   \n",
    "    print(\"Predict time: %s seconds\" % str(end - start))\n",
    "    predict_time.append(round(end-start,2))\n",
    "    \n",
    "    # calculate accuracy average\n",
    "    num_correct=0\n",
    "    for i in range(0,len(val_test)):\n",
    "        if val_test[i] == predicted[i]:\n",
    "            num_correct +=1\n",
    "    accuracy.append(float(num_correct / float(len(val_test))))\n",
    "print('Predict complete')\n"
   ]
  },
  {
   "cell_type": "code",
   "execution_count": 19,
   "metadata": {},
   "outputs": [
    {
     "name": "stdout",
     "output_type": "stream",
     "text": [
      "       train-time  predict-time  accuracy\n",
      "1-NN         0.01        772.46    0.9717\n",
      "3-NN         0.00        753.10    0.9745\n",
      "5-NN         0.01        760.85    0.9744\n",
      "7-NN         0.00        748.62    0.9735\n",
      "9-NN         0.01        763.35    0.9722\n",
      "11-NN        0.01        775.64    0.9717\n",
      "13-NN        0.00        777.79    0.9710\n",
      "15-NN        0.01        751.99    0.9706\n",
      "17-NN        0.01        752.22    0.9695\n",
      "19-NN        0.01        767.66    0.9694\n",
      "21-NN        0.01        742.89    0.9682\n",
      "23-NN        0.00        754.39    0.9678\n",
      "25-NN        0.01        761.53    0.9672\n",
      "27-NN        0.01        753.41    0.9676\n",
      "29-NN        0.01        764.57    0.9667\n"
     ]
    }
   ],
   "source": [
    "# save result\n",
    "list_of_result = list(zip(train_time, predict_time, accuracy))\n",
    "df = pd.DataFrame(list_of_result, columns=headers, index=index_name)\n",
    "print(df)\n",
    "df.to_csv('result.csv', sep=',')"
   ]
  },
  {
   "cell_type": "code",
   "execution_count": null,
   "metadata": {},
   "outputs": [],
   "source": []
  },
  {
   "cell_type": "code",
   "execution_count": null,
   "metadata": {},
   "outputs": [],
   "source": []
  }
 ],
 "metadata": {
  "kernelspec": {
   "display_name": "Python 3",
   "language": "python",
   "name": "python3"
  },
  "language_info": {
   "codemirror_mode": {
    "name": "ipython",
    "version": 3
   },
   "file_extension": ".py",
   "mimetype": "text/x-python",
   "name": "python",
   "nbconvert_exporter": "python",
   "pygments_lexer": "ipython3",
   "version": "3.6.8"
  }
 },
 "nbformat": 4,
 "nbformat_minor": 2
}
