{
 "cells": [
  {
   "cell_type": "code",
   "execution_count": 1,
   "metadata": {},
   "outputs": [
    {
     "name": "stderr",
     "output_type": "stream",
     "text": [
      "Using TensorFlow backend.\n"
     ]
    }
   ],
   "source": [
    "from matplotlib import pyplot as plt\n",
    "from sklearn import datasets, metrics\n",
    "from sklearn.neighbors import KNeighborsClassifier\n",
    "from keras.datasets import mnist\n",
    "from sklearn.metrics.pairwise import cosine_similarity\n",
    "from sklearn.externals import joblib\n",
    "import pandas as pd\n",
    "import time"
   ]
  },
  {
   "cell_type": "code",
   "execution_count": 2,
   "metadata": {},
   "outputs": [
    {
     "name": "stdout",
     "output_type": "stream",
     "text": [
      "(60000, 28, 28)\n",
      "(10000, 28, 28)\n"
     ]
    }
   ],
   "source": [
    "# load data\n",
    "(img_train, val_train),(img_test, val_test) = mnist.load_data()\n",
    "print(img_train.shape)\n",
    "print(img_test.shape)\n",
    "# t = pd.DataFrame(val_train, columns=['label'])\n",
    "# print(t.head(5))"
   ]
  },
  {
   "cell_type": "code",
   "execution_count": 3,
   "metadata": {},
   "outputs": [],
   "source": [
    "# tt = t['label'].value_counts()\n",
    "# print(tt)"
   ]
  },
  {
   "cell_type": "code",
   "execution_count": 4,
   "metadata": {},
   "outputs": [
    {
     "data": {
      "text/plain": [
       "Text(0.5, 1.0, \"Distribution of Label's\")"
      ]
     },
     "execution_count": 4,
     "metadata": {},
     "output_type": "execute_result"
    },
    {
     "data": {
      "image/png": "[encoded data removed]",
      "text/plain": [
       "<Figure size 936x504 with 1 Axes>"
      ]
     },
     "metadata": {
      "needs_background": "light"
     },
     "output_type": "display_data"
    }
   ],
   "source": [
    "# data visualiztion\n",
    "plt.figure(figsize=(13,7))\n",
    "plt.hist( x=val_train, bins=19 ,color='c')\n",
    "plt.xlabel('Digits')\n",
    "plt.ylabel('Frequency')\n",
    "plt.title('Distribution of Label\\'s')"
   ]
  },
  {
   "cell_type": "code",
   "execution_count": 5,
   "metadata": {},
   "outputs": [
    {
     "name": "stdout",
     "output_type": "stream",
     "text": [
      "(60000, 784)\n"
     ]
    }
   ],
   "source": [
    "# convert images (matrixs) to vectors\n",
    "n = len(img_train)\n",
    "data = img_train.reshape(n, -1)\n",
    "print(data.shape)"
   ]
  },
  {
   "cell_type": "code",
   "execution_count": 6,
   "metadata": {},
   "outputs": [],
   "source": [
    "# declare and asign values for variables\n",
    "max_k = 29\n",
    "dist_algo = 'cosine'\n",
    "index_name = []\n",
    "train_time = []\n",
    "predict_time = []\n",
    "accuracy = []\n",
    "headers = ['train-time','predict-time','accuracy']"
   ]
  },
  {
   "cell_type": "code",
   "execution_count": 7,
   "metadata": {},
   "outputs": [
    {
     "name": "stdout",
     "output_type": "stream",
     "text": [
      "Training 1-NN with cosine distance algorithm\n",
      "Training time: 0.005998134613037109 seconds\n",
      "1-NN cosine.sav saved\n",
      "\n",
      "Training 3-NN with cosine distance algorithm\n",
      "Training time: 0.004998922348022461 seconds\n",
      "3-NN cosine.sav saved\n",
      "\n",
      "Training 5-NN with cosine distance algorithm\n",
      "Training time: 0.014991998672485352 seconds\n",
      "5-NN cosine.sav saved\n",
      "\n",
      "Training 7-NN with cosine distance algorithm\n",
      "Training time: 0.0069959163665771484 seconds\n",
      "7-NN cosine.sav saved\n",
      "\n",
      "Training 9-NN with cosine distance algorithm\n",
      "Training time: 0.005997180938720703 seconds\n",
      "9-NN cosine.sav saved\n",
      "\n",
      "Training 11-NN with cosine distance algorithm\n",
      "Training time: 0.009993791580200195 seconds\n",
      "11-NN cosine.sav saved\n",
      "\n",
      "Training 13-NN with cosine distance algorithm\n",
      "Training time: 0.004997968673706055 seconds\n",
      "13-NN cosine.sav saved\n",
      "\n",
      "Training 15-NN with cosine distance algorithm\n",
      "Training time: 0.005996227264404297 seconds\n",
      "15-NN cosine.sav saved\n",
      "\n",
      "Training 17-NN with cosine distance algorithm\n",
      "Training time: 0.005015134811401367 seconds\n",
      "17-NN cosine.sav saved\n",
      "\n",
      "Training 19-NN with cosine distance algorithm\n",
      "Training time: 0.004995584487915039 seconds\n",
      "19-NN cosine.sav saved\n",
      "\n",
      "Training 21-NN with cosine distance algorithm\n",
      "Training time: 0.006996870040893555 seconds\n",
      "21-NN cosine.sav saved\n",
      "\n",
      "Training 23-NN with cosine distance algorithm\n",
      "Training time: 0.00401759147644043 seconds\n",
      "23-NN cosine.sav saved\n",
      "\n",
      "Training 25-NN with cosine distance algorithm\n",
      "Training time: 0.006998538970947266 seconds\n",
      "25-NN cosine.sav saved\n",
      "\n",
      "Training 27-NN with cosine distance algorithm\n",
      "Training time: 0.003996372222900391 seconds\n",
      "27-NN cosine.sav saved\n",
      "\n",
      "Training 29-NN with cosine distance algorithm\n",
      "Training time: 0.003998279571533203 seconds\n",
      "29-NN cosine.sav saved\n",
      "\n",
      "Train complete!\n"
     ]
    }
   ],
   "source": [
    "# train model with KNN\n",
    "for k in range(1, max_k+1, 2):\n",
    "    print('Training ' + str(k) + '-NN with ' + dist_algo + ' distance algorithm')\n",
    "    index_name.append(str(k) + '-NN')\n",
    "    \n",
    "    # create KNN classifier\n",
    "    start = time.time()\n",
    "    knn = KNeighborsClassifier(metric ='cosine', p=2, n_neighbors=k)\n",
    "    knn.fit(data, val_train)\n",
    "    end = time.time()\n",
    "    \n",
    "    print(\"Training time: %s seconds\" % str(end - start))\n",
    "    train_time.append(round(end-start,2))\n",
    "    \n",
    "    # save model using joblib\n",
    "    filename = str(k) + '-NN ' + dist_algo + '.sav'\n",
    "    joblib.dump(knn, filename)\n",
    "    \n",
    "    print(\"%s saved\\n\" %filename)\n",
    "    \n",
    "print('Train complete!')"
   ]
  },
  {
   "cell_type": "code",
   "execution_count": 8,
   "metadata": {},
   "outputs": [],
   "source": [
    "# convert test images (matrixs) to vectors\n",
    "n = len(img_test)\n",
    "test_data = img_test.reshape(n, -1)\n",
    "\n",
    "# # predict data\n",
    "# predicted = knn.predict(test_data)\n",
    "# print(len(predicted))"
   ]
  },
  {
   "cell_type": "code",
   "execution_count": 9,
   "metadata": {},
   "outputs": [
    {
     "name": "stdout",
     "output_type": "stream",
     "text": [
      "Predicting 1-NN\n",
      "10000\n",
      "Predict time: 38.16171050071716 seconds\n",
      "Accuracy: \n",
      "0.9723\n",
      "Predicting 3-NN\n",
      "10000\n",
      "Predict time: 47.21393442153931 seconds\n",
      "Accuracy: \n",
      "0.9733\n",
      "Predicting 5-NN\n",
      "10000\n",
      "Predict time: 46.04303050041199 seconds\n",
      "Accuracy: \n",
      "0.973\n",
      "Predicting 7-NN\n",
      "10000\n",
      "Predict time: 42.13195586204529 seconds\n",
      "Accuracy: \n",
      "0.9727\n",
      "Predicting 9-NN\n",
      "10000\n",
      "Predict time: 44.55826544761658 seconds\n",
      "Accuracy: \n",
      "0.9717\n",
      "Predicting 11-NN\n",
      "10000\n",
      "Predict time: 39.51510548591614 seconds\n",
      "Accuracy: \n",
      "0.9716\n",
      "Predicting 13-NN\n",
      "10000\n",
      "Predict time: 39.79925751686096 seconds\n",
      "Accuracy: \n",
      "0.97\n",
      "Predicting 15-NN\n",
      "10000\n",
      "Predict time: 49.191609144210815 seconds\n",
      "Accuracy: \n",
      "0.9699\n",
      "Predicting 17-NN\n",
      "10000\n",
      "Predict time: 41.724969148635864 seconds\n",
      "Accuracy: \n",
      "0.9687\n",
      "Predicting 19-NN\n",
      "10000\n",
      "Predict time: 39.69587421417236 seconds\n",
      "Accuracy: \n",
      "0.9682\n",
      "Predicting 21-NN\n",
      "10000\n",
      "Predict time: 38.91396450996399 seconds\n",
      "Accuracy: \n",
      "0.9682\n",
      "Predicting 23-NN\n",
      "10000\n",
      "Predict time: 42.64933180809021 seconds\n",
      "Accuracy: \n",
      "0.9674\n",
      "Predicting 25-NN\n",
      "10000\n",
      "Predict time: 42.481809854507446 seconds\n",
      "Accuracy: \n",
      "0.9675\n",
      "Predicting 27-NN\n",
      "10000\n",
      "Predict time: 41.427576541900635 seconds\n",
      "Accuracy: \n",
      "0.9671\n",
      "Predicting 29-NN\n",
      "10000\n",
      "Predict time: 43.69863986968994 seconds\n",
      "Accuracy: \n",
      "0.9665\n",
      "Predict complete\n"
     ]
    }
   ],
   "source": [
    "for k in range(1, max_k+1, 2):\n",
    "    # load model\n",
    "    filename = str(k) + '-NN ' + dist_algo + '.sav'\n",
    "    loaded_model = joblib.load(filename)\n",
    "    \n",
    "    # predict data\n",
    "    start = time.time()\n",
    "    predicted = loaded_model.predict(test_data)\n",
    "    end = time.time()\n",
    "    print('Predicting ' + str(k) + '-NN')\n",
    "    print(len(predicted))\n",
    "    \n",
    "    print(\"Predict time: %s seconds\" % str(end - start))\n",
    "    predict_time.append(round(end-start,2))\n",
    "    \n",
    "    # calculate accuracy average\n",
    "    num_correct=0\n",
    "    for i in range(0,len(val_test)):\n",
    "        if val_test[i] == predicted[i]:\n",
    "            num_correct +=1\n",
    "            \n",
    "    print(\"Accuracy: \\n%s\" % str(float(num_correct / float(len(val_test)))))\n",
    "    accuracy.append(float(num_correct / float(len(val_test))))\n",
    "    \n",
    "print('Predict complete')"
   ]
  },
  {
   "cell_type": "code",
   "execution_count": 10,
   "metadata": {},
   "outputs": [
    {
     "name": "stdout",
     "output_type": "stream",
     "text": [
      "       train-time  predict-time  accuracy\n",
      "1-NN         0.01         38.16    0.9723\n",
      "3-NN         0.00         47.21    0.9733\n",
      "5-NN         0.01         46.04    0.9730\n",
      "7-NN         0.01         42.13    0.9727\n",
      "9-NN         0.01         44.56    0.9717\n",
      "11-NN        0.01         39.52    0.9716\n",
      "13-NN        0.00         39.80    0.9700\n",
      "15-NN        0.01         49.19    0.9699\n",
      "17-NN        0.01         41.72    0.9687\n",
      "19-NN        0.00         39.70    0.9682\n",
      "21-NN        0.01         38.91    0.9682\n",
      "23-NN        0.00         42.65    0.9674\n",
      "25-NN        0.01         42.48    0.9675\n",
      "27-NN        0.00         41.43    0.9671\n",
      "29-NN        0.00         43.70    0.9665\n"
     ]
    }
   ],
   "source": [
    "# save result\n",
    "list_of_result = list(zip(train_time, predict_time, accuracy))\n",
    "df = pd.DataFrame(list_of_result, columns=headers, index=index_name)\n",
    "print(df)\n",
    "df.to_csv('result_cosine.csv', sep=',')"
   ]
  },
  {
   "cell_type": "code",
   "execution_count": 11,
   "metadata": {},
   "outputs": [],
   "source": []
  },
  {
   "cell_type": "code",
   "execution_count": 12,
   "metadata": {},
   "outputs": [],
   "source": []
  },
  {
   "cell_type": "code",
   "execution_count": null,
   "metadata": {},
   "outputs": [],
   "source": []
  }
 ],
 "metadata": {
  "kernelspec": {
   "display_name": "Python 3",
   "language": "python",
   "name": "python3"
  },
  "language_info": {
   "codemirror_mode": {
    "name": "ipython",
    "version": 3
   },
   "file_extension": ".py",
   "mimetype": "text/x-python",
   "name": "python",
   "nbconvert_exporter": "python",
   "pygments_lexer": "ipython3",
   "version": "3.6.8"
  }
 },
 "nbformat": 4,
 "nbformat_minor": 2
}
