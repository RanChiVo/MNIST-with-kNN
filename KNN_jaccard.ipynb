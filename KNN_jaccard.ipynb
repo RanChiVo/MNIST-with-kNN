{
 "cells": [
  {
   "cell_type": "code",
   "execution_count": 1,
   "metadata": {
    "colab": {
     "base_uri": "https://localhost:8080/",
     "height": 34
    },
    "colab_type": "code",
    "id": "77lZR3QtwMSP",
    "outputId": "3b79bdf3-4d9b-404d-c792-c145db067354"
   },
   "outputs": [
    {
     "name": "stderr",
     "output_type": "stream",
     "text": [
      "Using TensorFlow backend.\n"
     ]
    }
   ],
   "source": [
    "from matplotlib import pyplot as plt\n",
    "from sklearn import datasets, metrics\n",
    "from sklearn.neighbors import KNeighborsClassifier\n",
    "from keras.datasets import mnist\n",
    "import pickle\n",
    "import time\n",
    "import pandas as pd"
   ]
  },
  {
   "cell_type": "code",
   "execution_count": 2,
   "metadata": {
    "colab": {
     "base_uri": "https://localhost:8080/",
     "height": 85
    },
    "colab_type": "code",
    "id": "J4h5swmawMSV",
    "outputId": "55450d89-336c-471d-b38a-409872504bfc"
   },
   "outputs": [
    {
     "name": "stdout",
     "output_type": "stream",
     "text": [
      "Downloading data from https://s3.amazonaws.com/img-datasets/mnist.npz\n",
      "11493376/11490434 [==============================] - 0s 0us/step\n",
      "(60000, 28, 28)\n",
      "(10000, 28, 28)\n"
     ]
    }
   ],
   "source": [
    "\n",
    "\n",
    "\n",
    "\n",
    "\n",
    "\n",
    "\n",
    "\n",
    "\n",
    "\n",
    "\n",
    "\n",
    "\n",
    "\n",
    "\n",
    "\n",
    "\n",
    "# load data\n",
    "(img_train, val_train),(img_test, val_test) = mnist.load_data()\n",
    "print(img_train.shape)\n",
    "print(img_test.shape)"
   ]
  },
  {
   "cell_type": "code",
   "execution_count": 3,
   "metadata": {
    "colab": {
     "base_uri": "https://localhost:8080/",
     "height": 34
    },
    "colab_type": "code",
    "id": "f_bQakCBwMSY",
    "outputId": "beb0c5ac-2b90-4e0e-ac6e-cf0fc3485ed8"
   },
   "outputs": [
    {
     "name": "stdout",
     "output_type": "stream",
     "text": [
      "(60000, 784)\n"
     ]
    }
   ],
   "source": [
    "# convert images (matrixs) to vectors\n",
    "n = len(img_train)\n",
    "data = img_train.reshape(n, -1)\n",
    "print(data.shape)"
   ]
  },
  {
   "cell_type": "code",
   "execution_count": null,
   "metadata": {
    "colab": {},
    "colab_type": "code",
    "id": "ylwZXnFXwMSa"
   },
   "outputs": [],
   "source": [
    "# declare and asign values for variables\n",
    "max_k = 29\n",
    "dist_algo = 'jaccard'\n",
    "index_name = []\n",
    "train_time = []\n",
    "predict_time = []\n",
    "accuracy = []\n",
    "headers = ['train-time','predict-time','accuracy']"
   ]
  },
  {
   "cell_type": "code",
   "execution_count": 5,
   "metadata": {
    "colab": {
     "base_uri": "https://localhost:8080/",
     "height": 1054
    },
    "colab_type": "code",
    "id": "IbqkGIzqwMSc",
    "outputId": "609a72f9-e01f-4cd0-e435-f52441dd4f70"
   },
   "outputs": [
    {
     "name": "stdout",
     "output_type": "stream",
     "text": [
      "Training 1-NN with jaccard distance algorithm\n",
      "Training time: 35.2480731010437 seconds\n",
      "1-NN jaccard.sav saved\n",
      "\n",
      "Training 3-NN with jaccard distance algorithm\n",
      "Training time: 35.08888292312622 seconds\n",
      "3-NN jaccard.sav saved\n",
      "\n",
      "Training 5-NN with jaccard distance algorithm\n",
      "Training time: 35.00754189491272 seconds\n",
      "5-NN jaccard.sav saved\n",
      "\n",
      "Training 7-NN with jaccard distance algorithm\n",
      "Training time: 34.887356996536255 seconds\n",
      "7-NN jaccard.sav saved\n",
      "\n",
      "Training 9-NN with jaccard distance algorithm\n",
      "Training time: 34.91658806800842 seconds\n",
      "9-NN jaccard.sav saved\n",
      "\n",
      "Training 11-NN with jaccard distance algorithm\n",
      "Training time: 34.990676403045654 seconds\n",
      "11-NN jaccard.sav saved\n",
      "\n",
      "Training 13-NN with jaccard distance algorithm\n",
      "Training time: 34.83969831466675 seconds\n",
      "13-NN jaccard.sav saved\n",
      "\n",
      "Training 15-NN with jaccard distance algorithm\n",
      "Training time: 35.03442430496216 seconds\n",
      "15-NN jaccard.sav saved\n",
      "\n",
      "Training 17-NN with jaccard distance algorithm\n",
      "Training time: 35.08758020401001 seconds\n",
      "17-NN jaccard.sav saved\n",
      "\n",
      "Training 19-NN with jaccard distance algorithm\n",
      "Training time: 35.218374252319336 seconds\n",
      "19-NN jaccard.sav saved\n",
      "\n",
      "Training 21-NN with jaccard distance algorithm\n",
      "Training time: 35.050063610076904 seconds\n",
      "21-NN jaccard.sav saved\n",
      "\n",
      "Training 23-NN with jaccard distance algorithm\n",
      "Training time: 35.11213731765747 seconds\n",
      "23-NN jaccard.sav saved\n",
      "\n",
      "Training 25-NN with jaccard distance algorithm\n",
      "Training time: 35.095444679260254 seconds\n",
      "25-NN jaccard.sav saved\n",
      "\n",
      "Training 27-NN with jaccard distance algorithm\n",
      "Training time: 35.17853593826294 seconds\n",
      "27-NN jaccard.sav saved\n",
      "\n",
      "Training 29-NN with jaccard distance algorithm\n",
      "Training time: 35.210931062698364 seconds\n",
      "29-NN jaccard.sav saved\n",
      "\n",
      "Train complete!\n"
     ]
    }
   ],
   "source": [
    "# training\n",
    "for k in range(1, max_k+1, 2):\n",
    "    print('Training ' + str(k) + '-NN with ' + dist_algo + ' distance algorithm')\n",
    "    index_name.append(str(k) + '-NN')\n",
    "    \n",
    "    # create KNN classifier\n",
    "    start = time.time()\n",
    "    knn = KNeighborsClassifier(algorithm='auto', metric = dist_algo, p=2, n_neighbors=k)\n",
    "    knn.fit(data, val_train)\n",
    "    end = time.time()\n",
    "    print(\"Training time: %s seconds\" % str(end - start))\n",
    "    train_time.append(round(end-start,2))\n",
    "\n",
    "    # save model\n",
    "    filename = str(k) + '-NN ' + dist_algo + '.sav'\n",
    "    pickle.dump(knn, open(filename, 'wb'))\n",
    "    print(\"%s saved\\n\" %filename)\n",
    "print('Train complete!')"
   ]
  },
  {
   "cell_type": "code",
   "execution_count": null,
   "metadata": {
    "colab": {},
    "colab_type": "code",
    "id": "Px2lOAFcwMSf"
   },
   "outputs": [],
   "source": [
    "# convert test images (matrixs) to vectors\n",
    "start = time.time()\n",
    "n = len(img_test)\n",
    "test_data = img_test.reshape(n, -1)"
   ]
  },
  {
   "cell_type": "code",
   "execution_count": 7,
   "metadata": {
    "colab": {
     "base_uri": "https://localhost:8080/",
     "height": 799
    },
    "colab_type": "code",
    "id": "Zpxj7iIFwMSh",
    "outputId": "30c3eef9-b910-42db-85a6-c4ef08720f4b"
   },
   "outputs": [
    {
     "name": "stdout",
     "output_type": "stream",
     "text": [
      "Predicting 1-NN\n",
      "10000\n",
      "Predict time: 1272.4507057666779 seconds\n",
      "Predicting 3-NN\n",
      "10000\n",
      "Predict time: 1273.8691248893738 seconds\n",
      "Predicting 5-NN\n",
      "10000\n",
      "Predict time: 1285.8642988204956 seconds\n",
      "Predicting 7-NN\n",
      "10000\n",
      "Predict time: 1266.8742537498474 seconds\n",
      "Predicting 9-NN\n",
      "10000\n",
      "Predict time: 1268.8411684036255 seconds\n",
      "Predicting 11-NN\n",
      "10000\n",
      "Predict time: 1259.9489018917084 seconds\n",
      "Predicting 13-NN\n",
      "10000\n",
      "Predict time: 1264.0600035190582 seconds\n",
      "Predicting 15-NN\n",
      "10000\n",
      "Predict time: 1256.814787387848 seconds\n",
      "Predicting 17-NN\n",
      "10000\n",
      "Predict time: 1265.665010213852 seconds\n",
      "Predicting 19-NN\n",
      "10000\n",
      "Predict time: 1265.4880576133728 seconds\n",
      "Predicting 21-NN\n",
      "10000\n",
      "Predict time: 1262.929990530014 seconds\n",
      "Predicting 23-NN\n",
      "10000\n",
      "Predict time: 1245.5977976322174 seconds\n",
      "Predicting 25-NN\n",
      "10000\n",
      "Predict time: 1254.9027009010315 seconds\n",
      "Predicting 27-NN\n",
      "10000\n",
      "Predict time: 1255.219843864441 seconds\n",
      "Predicting 29-NN\n",
      "10000\n",
      "Predict time: 1269.1429278850555 seconds\n",
      "Predict complete\n"
     ]
    }
   ],
   "source": [
    "# predict data\n",
    "for k in range(1, max_k+1, 2):\n",
    "    filename = str(k) + '-NN ' + dist_algo + '.sav'\n",
    "    loaded_knn = pickle.load(open(filename, 'rb'))\n",
    "    \n",
    "    start = time.time()\n",
    "    print('Predicting ' + str(k) + '-NN')\n",
    "    predicted = loaded_knn.predict(test_data)\n",
    "    print(len(predicted))\n",
    "    end = time.time()\n",
    "    print(\"Predict time: %s seconds\" % str(end - start))\n",
    "    predict_time.append(round(end-start,2))\n",
    "    \n",
    "    # calculate accuracy average\n",
    "    num_correct=0\n",
    "    for i in range(0,len(val_test)):\n",
    "        if val_test[i] == predicted[i]:\n",
    "            num_correct +=1\n",
    "    accuracy.append(float(num_correct / float(len(val_test))))\n",
    "print('Predict complete')"
   ]
  },
  {
   "cell_type": "code",
   "execution_count": 8,
   "metadata": {
    "colab": {
     "base_uri": "https://localhost:8080/",
     "height": 289
    },
    "colab_type": "code",
    "id": "r_TU4sWJwMSl",
    "outputId": "e6be5b97-77ae-48da-97f8-c5fcb688e2d9"
   },
   "outputs": [
    {
     "name": "stdout",
     "output_type": "stream",
     "text": [
      "       train-time  predict-time  accuracy\n",
      "1-NN        35.25       1272.45    0.9598\n",
      "3-NN        35.09       1273.87    0.9618\n",
      "5-NN        35.01       1285.86    0.9628\n",
      "7-NN        34.89       1266.87    0.9622\n",
      "9-NN        34.92       1268.84    0.9613\n",
      "11-NN       34.99       1259.95    0.9605\n",
      "13-NN       34.84       1264.06    0.9607\n",
      "15-NN       35.03       1256.81    0.9594\n",
      "17-NN       35.09       1265.67    0.9595\n",
      "19-NN       35.22       1265.49    0.9588\n",
      "21-NN       35.05       1262.93    0.9588\n",
      "23-NN       35.11       1245.60    0.9584\n",
      "25-NN       35.10       1254.90    0.9569\n",
      "27-NN       35.18       1255.22    0.9563\n",
      "29-NN       35.21       1269.14    0.9564\n"
     ]
    }
   ],
   "source": [
    "# save result\n",
    "list_of_result = list(zip(train_time, predict_time, accuracy))\n",
    "df = pd.DataFrame(list_of_result, columns=headers, index=index_name)\n",
    "print(df)\n",
    "df.to_csv('result.csv', sep=',')"
   ]
  }
 ],
 "metadata": {
  "accelerator": "GPU",
  "colab": {
   "collapsed_sections": [],
   "name": "KNN.ipynb",
   "provenance": [],
   "version": "0.3.2"
  },
  "kernelspec": {
   "display_name": "Python 3",
   "language": "python",
   "name": "python3"
  },
  "language_info": {
   "codemirror_mode": {
    "name": "ipython",
    "version": 3
   },
   "file_extension": ".py",
   "mimetype": "text/x-python",
   "name": "python",
   "nbconvert_exporter": "python",
   "pygments_lexer": "ipython3",
   "version": "3.6.8"
  }
 },
 "nbformat": 4,
 "nbformat_minor": 2
}
