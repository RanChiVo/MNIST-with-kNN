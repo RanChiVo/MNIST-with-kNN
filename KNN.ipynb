{
 "cells": [
  {
   "cell_type": "code",
   "execution_count": 1,
   "metadata": {},
   "outputs": [
    {
     "name": "stderr",
     "output_type": "stream",
     "text": [
      "Using TensorFlow backend.\n"
     ]
    }
   ],
   "source": [
    "from matplotlib import pyplot as plt\n",
    "from sklearn import datasets, metrics\n",
    "from sklearn.neighbors import KNeighborsClassifier\n",
    "from keras.datasets import mnist\n",
    "import pickle\n",
    "import time\n",
    "import pandas as pd"
   ]
  },
  {
   "cell_type": "code",
   "execution_count": 2,
   "metadata": {},
   "outputs": [
    {
     "name": "stdout",
     "output_type": "stream",
     "text": [
      "(60000, 28, 28)\n",
      "(10000, 28, 28)\n"
     ]
    }
   ],
   "source": [
    "# load data\n",
    "(img_train, val_train),(img_test, val_test) = mnist.load_data()\n",
    "print(img_train.shape)\n",
    "print(img_test.shape)"
   ]
  },
  {
   "cell_type": "code",
   "execution_count": 3,
   "metadata": {},
   "outputs": [
    {
     "name": "stdout",
     "output_type": "stream",
     "text": [
      "(60000, 784)\n"
     ]
    }
   ],
   "source": [
    "# convert images (matrixs) to vectors\n",
    "n = len(img_train)\n",
    "data = img_train.reshape(n, -1)\n",
    "print(data.shape)"
   ]
  },
  {
   "cell_type": "code",
   "execution_count": 4,
   "metadata": {},
   "outputs": [],
   "source": [
    "# declare and asign values for variables\n",
    "max_k = 29\n",
    "dist_algo = 'manhattan'\n",
    "index_name = []\n",
    "train_time = []\n",
    "predict_time = []\n",
    "accuracy = []\n",
    "headers = ['train-time','predict-time','accuracy']"
   ]
  },
  {
   "cell_type": "code",
   "execution_count": 5,
   "metadata": {},
   "outputs": [
    {
     "name": "stdout",
     "output_type": "stream",
     "text": [
      "Training 1-NN with manhattan distance algorithm\n",
      "Training time: 30.00669765472412 seconds\n",
      "1-NN manhattan.sav saved\n",
      "\n",
      "Training 3-NN with manhattan distance algorithm\n",
      "Training time: 30.138401985168457 seconds\n",
      "3-NN manhattan.sav saved\n",
      "\n",
      "Training 5-NN with manhattan distance algorithm\n",
      "Training time: 29.827011108398438 seconds\n",
      "5-NN manhattan.sav saved\n",
      "\n",
      "Training 7-NN with manhattan distance algorithm\n",
      "Training time: 29.395301342010498 seconds\n",
      "7-NN manhattan.sav saved\n",
      "\n",
      "Training 9-NN with manhattan distance algorithm\n",
      "Training time: 29.58243680000305 seconds\n",
      "9-NN manhattan.sav saved\n",
      "\n",
      "Training 11-NN with manhattan distance algorithm\n",
      "Training time: 30.288622617721558 seconds\n",
      "11-NN manhattan.sav saved\n",
      "\n",
      "Training 13-NN with manhattan distance algorithm\n",
      "Training time: 30.184314250946045 seconds\n",
      "13-NN manhattan.sav saved\n",
      "\n",
      "Training 15-NN with manhattan distance algorithm\n",
      "Training time: 30.196791410446167 seconds\n",
      "15-NN manhattan.sav saved\n",
      "\n",
      "Training 17-NN with manhattan distance algorithm\n",
      "Training time: 29.93878722190857 seconds\n",
      "17-NN manhattan.sav saved\n",
      "\n",
      "Training 19-NN with manhattan distance algorithm\n",
      "Training time: 29.775076866149902 seconds\n",
      "19-NN manhattan.sav saved\n",
      "\n",
      "Training 21-NN with manhattan distance algorithm\n",
      "Training time: 29.260552167892456 seconds\n",
      "21-NN manhattan.sav saved\n",
      "\n",
      "Training 23-NN with manhattan distance algorithm\n",
      "Training time: 29.29796576499939 seconds\n",
      "23-NN manhattan.sav saved\n",
      "\n",
      "Training 25-NN with manhattan distance algorithm\n",
      "Training time: 28.80838966369629 seconds\n",
      "25-NN manhattan.sav saved\n",
      "\n",
      "Training 27-NN with manhattan distance algorithm\n",
      "Training time: 29.17919898033142 seconds\n",
      "27-NN manhattan.sav saved\n",
      "\n",
      "Training 29-NN with manhattan distance algorithm\n",
      "Training time: 29.256046772003174 seconds\n",
      "29-NN manhattan.sav saved\n",
      "\n",
      "Train complete!\n"
     ]
    }
   ],
   "source": [
    "# training\n",
    "for k in range(1, max_k+1, 2):\n",
    "    print('Training ' + str(k) + '-NN with ' + dist_algo + ' distance algorithm')\n",
    "    index_name.append(str(k) + '-NN')\n",
    "    \n",
    "    # create KNN classifier\n",
    "    start = time.time()\n",
    "    knn = KNeighborsClassifier(algorithm='kd_tree', metric = dist_algo, p=2, n_neighbors=k)\n",
    "    knn.fit(data, val_train)\n",
    "    end = time.time()\n",
    "    print(\"Training time: %s seconds\" % str(end - start))\n",
    "    train_time.append(round(end-start,2))\n",
    "\n",
    "    # save model\n",
    "    filename = str(k) + '-NN ' + dist_algo + '.sav'\n",
    "    pickle.dump(knn, open(filename, 'wb'))\n",
    "    print(\"%s saved\\n\" %filename)\n",
    "print('Train complete!')"
   ]
  },
  {
   "cell_type": "code",
   "execution_count": 6,
   "metadata": {},
   "outputs": [],
   "source": [
    "# convert test images (matrixs) to vectors\n",
    "start = time.time()\n",
    "n = len(img_test)\n",
    "test_data = img_test.reshape(n, -1)"
   ]
  },
  {
   "cell_type": "code",
   "execution_count": 7,
   "metadata": {},
   "outputs": [
    {
     "name": "stdout",
     "output_type": "stream",
     "text": [
      "Predicting 1-NN\n",
      "10000\n",
      "Predict time: 535.0440394878387 seconds\n",
      "Predicting 3-NN\n",
      "10000\n",
      "Predict time: 1064.9019770622253 seconds\n",
      "Predicting 5-NN\n",
      "10000\n",
      "Predict time: 1593.1719906330109 seconds\n",
      "Predicting 7-NN\n",
      "10000\n",
      "Predict time: 2121.3077862262726 seconds\n",
      "Predicting 9-NN\n",
      "10000\n",
      "Predict time: 2645.4096236228943 seconds\n",
      "Predicting 11-NN\n",
      "10000\n",
      "Predict time: 3177.589206933975 seconds\n",
      "Predicting 13-NN\n",
      "10000\n",
      "Predict time: 3699.310397386551 seconds\n",
      "Predicting 15-NN\n",
      "10000\n",
      "Predict time: 4229.5382244586945 seconds\n",
      "Predicting 17-NN\n",
      "10000\n",
      "Predict time: 4755.382059812546 seconds\n",
      "Predicting 19-NN\n",
      "10000\n",
      "Predict time: 5288.849094867706 seconds\n",
      "Predicting 21-NN\n",
      "10000\n",
      "Predict time: 5813.115791082382 seconds\n",
      "Predicting 23-NN\n",
      "10000\n",
      "Predict time: 6341.821734905243 seconds\n",
      "Predicting 25-NN\n",
      "10000\n",
      "Predict time: 6867.501853227615 seconds\n",
      "Predicting 27-NN\n",
      "10000\n",
      "Predict time: 7397.885201454163 seconds\n",
      "Predicting 29-NN\n",
      "10000\n",
      "Predict time: 7925.774642467499 seconds\n",
      "Predict complete\n"
     ]
    }
   ],
   "source": [
    "# predict data\n",
    "for k in range(1, max_k+1, 2):\n",
    "    filename = str(k) + '-NN ' + dist_algo + '.sav'\n",
    "    loaded_knn = pickle.load(open(filename, 'rb'))\n",
    "    \n",
    "    print('Predicting ' + str(k) + '-NN')\n",
    "    predicted = loaded_knn.predict(test_data)\n",
    "    print(len(predicted))\n",
    "    end = time.time()\n",
    "    print(\"Predict time: %s seconds\" % str(end - start))\n",
    "    predict_time.append(round(end-start,2))\n",
    "    \n",
    "    # calculate accuracy average\n",
    "    num_correct=0\n",
    "    for i in range(0,len(val_test)):\n",
    "        if val_test[i] == predicted[i]:\n",
    "            num_correct +=1\n",
    "    accuracy.append(float(num_correct / float(len(val_test))))\n",
    "print('Predict complete')"
   ]
  },
  {
   "cell_type": "code",
   "execution_count": 8,
   "metadata": {},
   "outputs": [
    {
     "name": "stdout",
     "output_type": "stream",
     "text": [
      "       train-time  predict-time  accuracy\n",
      "1-NN        30.01        535.04    0.9631\n",
      "3-NN        30.14       1064.90    0.9633\n",
      "5-NN        29.83       1593.17    0.9618\n",
      "7-NN        29.40       2121.31    0.9615\n",
      "9-NN        29.58       2645.41    0.9597\n",
      "11-NN       30.29       3177.59    0.9585\n",
      "13-NN       30.18       3699.31    0.9581\n",
      "15-NN       30.20       4229.54    0.9571\n",
      "17-NN       29.94       4755.38    0.9571\n",
      "19-NN       29.78       5288.85    0.9561\n",
      "21-NN       29.26       5813.12    0.9544\n",
      "23-NN       29.30       6341.82    0.9540\n",
      "25-NN       28.81       6867.50    0.9532\n",
      "27-NN       29.18       7397.89    0.9521\n",
      "29-NN       29.26       7925.77    0.9521\n"
     ]
    }
   ],
   "source": [
    "# save result\n",
    "list_of_result = list(zip(train_time, predict_time, accuracy))\n",
    "df = pd.DataFrame(list_of_result, columns=headers, index=index_name)\n",
    "print(df)\n",
    "df.to_csv('result.csv', sep=',')"
   ]
  },
  {
   "cell_type": "code",
   "execution_count": null,
   "metadata": {},
   "outputs": [],
   "source": []
  }
 ],
 "metadata": {
  "kernelspec": {
   "display_name": "Python 3",
   "language": "python",
   "name": "python3"
  },
  "language_info": {
   "codemirror_mode": {
    "name": "ipython",
    "version": 3
   },
   "file_extension": ".py",
   "mimetype": "text/x-python",
   "name": "python",
   "nbconvert_exporter": "python",
   "pygments_lexer": "ipython3",
   "version": "3.6.8"
  }
 },
 "nbformat": 4,
 "nbformat_minor": 2
}
