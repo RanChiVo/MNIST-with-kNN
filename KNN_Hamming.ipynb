{
 "cells": [
  {
   "cell_type": "code",
   "execution_count": 1,
   "metadata": {},
   "outputs": [
    {
     "name": "stderr",
     "output_type": "stream",
     "text": [
      "Using TensorFlow backend.\n"
     ]
    }
   ],
   "source": [
    "from matplotlib import pyplot as plt\n",
    "from sklearn import datasets, metrics\n",
    "from sklearn.neighbors import KNeighborsClassifier\n",
    "from keras.datasets import mnist\n",
    "import pickle\n",
    "import time"
   ]
  },
  {
   "cell_type": "code",
   "execution_count": 2,
   "metadata": {},
   "outputs": [
    {
     "name": "stdout",
     "output_type": "stream",
     "text": [
      "(1797, 8, 8)\n",
      "(60000, 28, 28)\n",
      "(10000, 28, 28)\n"
     ]
    }
   ],
   "source": [
    "digits = datasets.load_digits()\n",
    "data_with_labels = list(zip(digits.images,digits.target))\n",
    "print(digits.images.shape)\n",
    "\n",
    "# hi\n",
    "(img_train, val_train),(img_test, val_test) = mnist.load_data()\n",
    "print(img_train.shape)\n",
    "print(img_test.shape)"
   ]
  },
  {
   "cell_type": "code",
   "execution_count": 4,
   "metadata": {},
   "outputs": [
    {
     "name": "stdout",
     "output_type": "stream",
     "text": [
      "(60000, 784)\n"
     ]
    }
   ],
   "source": [
    "n = len(img_train)\n",
    "data = img_train.reshape(n, -1)\n",
    "print(data.shape)"
   ]
  },
  {
   "cell_type": "code",
   "execution_count": 5,
   "metadata": {},
   "outputs": [
    {
     "name": "stdout",
     "output_type": "stream",
     "text": [
      "K = 1\n",
      "running time995.1672011203973\n",
      "Accuracy: \n",
      "0.828\n",
      " \n",
      "Saved models\n",
      "K = 3\n",
      "running time989.131920853177\n",
      "Accuracy: \n",
      "0.8173\n",
      " \n",
      "Saved models\n",
      "K = 5\n",
      "running time990.6093930062084\n",
      "Accuracy: \n",
      "0.8117\n",
      " \n",
      "Saved models\n",
      "K = 7\n",
      "running time952.4010445452732\n",
      "Accuracy: \n",
      "0.8027\n",
      " \n",
      "Saved models\n",
      "K = 9\n",
      "running time927.1970105619966\n",
      "Accuracy: \n",
      "0.797\n",
      " \n",
      "Saved models\n",
      "K = 11\n",
      "running time936.6420476879948\n",
      "Accuracy: \n",
      "0.7934\n",
      " \n",
      "Saved models\n",
      "K = 13\n",
      "running time927.4952934228022\n",
      "Accuracy: \n",
      "0.7878\n",
      " \n",
      "Saved models\n",
      "K = 15\n",
      "running time929.674208936709\n",
      "Accuracy: \n",
      "0.7841\n",
      " \n",
      "Saved models\n",
      "K = 17\n",
      "running time932.9091537958584\n",
      "Accuracy: \n",
      "0.7794\n",
      " \n",
      "Saved models\n",
      "K = 19\n",
      "running time940.036446096683\n",
      "Accuracy: \n",
      "0.7756\n",
      " \n",
      "Saved models\n",
      "K = 21\n",
      "running time934.2034425747024\n",
      "Accuracy: \n",
      "0.7699\n",
      " \n",
      "Saved models\n",
      "K = 23\n",
      "running time927.8636121750369\n",
      "Accuracy: \n",
      "0.7671\n",
      " \n",
      "Saved models\n",
      "K = 25\n",
      "running time928.6017967442895\n",
      "Accuracy: \n",
      "0.7625\n",
      " \n",
      "Saved models\n",
      "K = 27\n",
      "running time932.1950601383905\n",
      "Accuracy: \n",
      "0.7593\n",
      " \n",
      "Saved models\n",
      "K = 29\n",
      "running time936.142374602221\n",
      "Accuracy: \n",
      "0.755\n",
      " \n",
      "Saved models\n"
     ]
    }
   ],
   "source": [
    "for k in range (1,31,2):\n",
    "    start_time=time.clock()\n",
    "    knn = KNeighborsClassifier(metric = 'hamming', p=2, n_neighbors=k)\n",
    "    knn.fit(data, val_train)\n",
    "    n = len(img_test)\n",
    "    test_data = img_test.reshape(n, -1)\n",
    "    predicted = knn.predict(test_data)\n",
    "    #print(len(predicted))\n",
    "    end_time=time.clock()\n",
    "    print(\"K = \"+str(k))\n",
    "    print(\"running time\"+str(end_time-start_time))\n",
    "    filename = 'finalized_model'+str(k)+'.sav'\n",
    "    num_correct=0\n",
    "    for i in range(0,len(val_test)):\n",
    "        if val_test[i] == predicted[i]:\n",
    "            num_correct +=1\n",
    "    print(\"Accuracy: \\n%s\" % str(float(num_correct / float(len(val_test)))))\n",
    "    pickle.dump(knn, open(filename, 'wb'))\n",
    "    print(\" \")"
   ]
  },
  {
   "cell_type": "code",
   "execution_count": 10,
   "metadata": {},
   "outputs": [],
   "source": []
  },
  {
   "cell_type": "code",
   "execution_count": null,
   "metadata": {},
   "outputs": [],
   "source": []
  }
 ],
 "metadata": {
  "kernelspec": {
   "display_name": "Python 3",
   "language": "python",
   "name": "python3"
  },
  "language_info": {
   "codemirror_mode": {
    "name": "ipython",
    "version": 3
   },
   "file_extension": ".py",
   "mimetype": "text/x-python",
   "name": "python",
   "nbconvert_exporter": "python",
   "pygments_lexer": "ipython3",
   "version": "3.6.8"
  }
 },
 "nbformat": 4,
 "nbformat_minor": 2
}
