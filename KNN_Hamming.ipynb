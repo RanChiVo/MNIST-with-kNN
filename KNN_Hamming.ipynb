{
 "cells": [
  {
   "cell_type": "code",
   "execution_count": 9,
   "metadata": {},
   "outputs": [],
   "source": [
    "from matplotlib import pyplot as plt\n",
    "from sklearn import datasets, metrics\n",
    "from sklearn.neighbors import KNeighborsClassifier\n",
    "from keras.datasets import mnist\n",
    "import pickle\n",
    "import time\n",
    "import pandas as pd"
   ]
  },
  {
   "cell_type": "code",
   "execution_count": 2,
   "metadata": {},
   "outputs": [
    {
     "name": "stdout",
     "output_type": "stream",
     "text": [
      "(1797, 8, 8)\n",
      "(60000, 28, 28)\n",
      "(10000, 28, 28)\n"
     ]
    }
   ],
   "source": [
    "digits = datasets.load_digits()\n",
    "data_with_labels = list(zip(digits.images,digits.target))\n",
    "print(digits.images.shape)\n",
    "\n",
    "# hi\n",
    "(img_train, val_train),(img_test, val_test) = mnist.load_data()\n",
    "print(img_train.shape)\n",
    "print(img_test.shape)"
   ]
  },
  {
   "cell_type": "code",
   "execution_count": 3,
   "metadata": {},
   "outputs": [
    {
     "name": "stdout",
     "output_type": "stream",
     "text": [
      "(60000, 784)\n"
     ]
    }
   ],
   "source": [
    "n = len(img_train)\n",
    "data = img_train.reshape(n, -1)\n",
    "print(data.shape)"
   ]
  },
  {
   "cell_type": "code",
   "execution_count": 4,
   "metadata": {},
   "outputs": [],
   "source": [
    "Training_time=[]\n",
    "Predict_time=[]"
   ]
  },
  {
   "cell_type": "code",
   "execution_count": 14,
   "metadata": {},
   "outputs": [
    {
     "name": "stdout",
     "output_type": "stream",
     "text": [
      "K = 1\n",
      "Training Runing Time: 20.8304979150671\n",
      " \n",
      "K = 3\n",
      "Training Runing Time: 20.263804713471472\n",
      " \n",
      "K = 5\n",
      "Training Runing Time: 20.329704435149324\n",
      " \n",
      "K = 7\n",
      "Training Runing Time: 20.338716960559395\n",
      " \n",
      "K = 9\n",
      "Training Runing Time: 20.360991681991436\n",
      " \n",
      "K = 11\n",
      "Training Runing Time: 20.385970200553857\n",
      " \n",
      "K = 13\n",
      "Training Runing Time: 20.442147472302167\n",
      " \n",
      "K = 15\n",
      "Training Runing Time: 20.436370891118713\n",
      " \n",
      "K = 17\n",
      "Training Runing Time: 20.36423473731338\n",
      " \n",
      "K = 19\n",
      "Training Runing Time: 20.438261652816436\n",
      " \n",
      "K = 21\n",
      "Training Runing Time: 20.67002336785299\n",
      " \n",
      "K = 23\n",
      "Training Runing Time: 20.320845193393325\n",
      " \n",
      "K = 25\n",
      "Training Runing Time: 20.429079251203802\n",
      " \n",
      "K = 27\n",
      "Training Runing Time: 20.46158012527303\n",
      " \n",
      "K = 29\n",
      "Training Runing Time: 20.334218401545513\n",
      " \n"
     ]
    }
   ],
   "source": [
    "for k in range (1,31,2):\n",
    "    start_time_train=time.clock()\n",
    "    knn = KNeighborsClassifier(metric = 'hamming', p=2, n_neighbors=k)\n",
    "    knn.fit(data, val_train)\n",
    "    end_time_train=time.clock()\n",
    "    print(\"K = \"+str(k))\n",
    "    print(\"Training Runing Time: \"+str( end_time_train-start_time_train))  \n",
    "    filename = 'finalized_model'+str(k)+'.sav'\n",
    "    pickle.dump(knn, open(filename, 'wb'))\n",
    "    print(\" \")\n",
    "    Training_time.append(round(end_time_train-start_time_train,2))"
   ]
  },
  {
   "cell_type": "code",
   "execution_count": 6,
   "metadata": {},
   "outputs": [
    {
     "name": "stdout",
     "output_type": "stream",
     "text": [
      "Running\n",
      "Predict 1_NN\n",
      "Pridict Runing Time: 862.8531372777535\n",
      "Accuracy: \n",
      "0.828\n",
      "Predict 3_NN\n",
      "Pridict Runing Time: 848.9830297619162\n",
      "Accuracy: \n",
      "0.8173\n",
      "Predict 5_NN\n",
      "Pridict Runing Time: 851.7914078194412\n",
      "Accuracy: \n",
      "0.8117\n",
      "Predict 7_NN\n",
      "Pridict Runing Time: 845.2929989274098\n",
      "Accuracy: \n",
      "0.8027\n",
      "Predict 9_NN\n",
      "Pridict Runing Time: 843.1177210514147\n",
      "Accuracy: \n",
      "0.797\n",
      "Predict 11_NN\n",
      "Pridict Runing Time: 851.7461911186347\n",
      "Accuracy: \n",
      "0.7934\n",
      "Predict 13_NN\n",
      "Pridict Runing Time: 851.5295807810744\n",
      "Accuracy: \n",
      "0.7878\n",
      "Predict 15_NN\n",
      "Pridict Runing Time: 851.1388722195115\n",
      "Accuracy: \n",
      "0.7841\n",
      "Predict 17_NN\n",
      "Pridict Runing Time: 847.7661104866957\n",
      "Accuracy: \n",
      "0.7794\n",
      "Predict 19_NN\n",
      "Pridict Runing Time: 846.3758981216833\n",
      "Accuracy: \n",
      "0.7756\n",
      "Predict 21_NN\n",
      "Pridict Runing Time: 843.3522039462641\n",
      "Accuracy: \n",
      "0.7699\n",
      "Predict 23_NN\n",
      "Pridict Runing Time: 852.153859646698\n",
      "Accuracy: \n",
      "0.7671\n",
      "Predict 25_NN\n",
      "Pridict Runing Time: 851.7199484050398\n",
      "Accuracy: \n",
      "0.7625\n",
      "Predict 27_NN\n",
      "Pridict Runing Time: 852.1320281836488\n",
      "Accuracy: \n",
      "0.7593\n",
      "Predict 29_NN\n",
      "Pridict Runing Time: 849.6818301593485\n",
      "Accuracy: \n",
      "0.755\n",
      "Complete\n"
     ]
    }
   ],
   "source": [
    "Accuracy=[]\n",
    "n = len(img_test)\n",
    "test_data = img_test.reshape(n, -1)\n",
    "print(\"Running\")\n",
    "for k in range (1,31,2):\n",
    "    filename='finalized_model'+str(k)+'.sav'\n",
    "    file=open(filename,'rb')\n",
    "    loaded_model = pickle.load(file)\n",
    "    predict_start=time.clock()\n",
    "    result = loaded_model.predict(test_data)\n",
    "    predict_end=time.clock()\n",
    "    print (\"Predict \"+str(k)+\"_NN\")\n",
    "    print(\"Pridict Runing Time: \"+str(predict_end-predict_start))\n",
    "    Predict_time.append(round(predict_end-predict_start,2))\n",
    "    num_correct=0\n",
    "    for i in range(0,len(val_test)):\n",
    "        if val_test[i] == result[i]:\n",
    "            num_correct +=1\n",
    "    print(\"Accuracy: \\n%s\" % str(float(num_correct / float(len(val_test)))))\n",
    "    Accuracy.append(float(num_correct / float(len(val_test))))\n",
    "print(\"Complete\")"
   ]
  },
  {
   "cell_type": "code",
   "execution_count": 16,
   "metadata": {},
   "outputs": [
    {
     "name": "stdout",
     "output_type": "stream",
     "text": [
      "       train-time  predict-time  accuracy\n",
      "1_NN           20        862.85    0.8280\n",
      "3_NN           21        848.98    0.8173\n",
      "5_NN           20        851.79    0.8117\n",
      "7_NN           20        845.29    0.8027\n",
      "9_NN           20        843.12    0.7970\n",
      "11_NN          20        851.75    0.7934\n",
      "13_NN          20        851.53    0.7878\n",
      "15_NN          20        851.14    0.7841\n",
      "17_NN          21        847.77    0.7794\n",
      "19_NN          21        846.38    0.7756\n",
      "21_NN          21        843.35    0.7699\n",
      "23_NN          21        852.15    0.7671\n",
      "25_NN          22        851.72    0.7625\n",
      "27_NN          21        852.13    0.7593\n",
      "29_NN          23        849.68    0.7550\n"
     ]
    }
   ],
   "source": [
    "index_name = []\n",
    "headers = ['train-time','predict-time','accuracy']\n",
    "for i in range (1,31,2):\n",
    "  index_name.append(str(i)+\"_NN\")  \n",
    "list_of_result = list(zip(Training_time, Predict_time, Accuracy))\n",
    "df = pd.DataFrame(list_of_result, columns=headers, index=index_name)\n",
    "print(df)\n",
    "df.to_csv('result.csv', sep=',')"
   ]
  },
  {
   "cell_type": "code",
   "execution_count": null,
   "metadata": {},
   "outputs": [],
   "source": []
  }
 ],
 "metadata": {
  "kernelspec": {
   "display_name": "Python 3",
   "language": "python",
   "name": "python3"
  },
  "language_info": {
   "codemirror_mode": {
    "name": "ipython",
    "version": 3
   },
   "file_extension": ".py",
   "mimetype": "text/x-python",
   "name": "python",
   "nbconvert_exporter": "python",
   "pygments_lexer": "ipython3",
   "version": "3.6.8"
  }
 },
 "nbformat": 4,
 "nbformat_minor": 2
}
