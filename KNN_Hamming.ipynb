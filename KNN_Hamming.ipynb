{
  "nbformat": 4,
  "nbformat_minor": 0,
  "metadata": {
    "colab": {
      "name": "KNN_Hamming.ipynb",
      "version": "0.3.2",
      "provenance": [],
      "include_colab_link": true
    },
    "kernelspec": {
      "display_name": "Python 3",
      "language": "python",
      "name": "python3"
    }
  },
  "cells": [
    {
      "cell_type": "markdown",
      "metadata": {
        "id": "view-in-github",
        "colab_type": "text"
      },
      "source": [
        "<a href=\"https://colab.research.google.com/github/PhanVinhLong/MNIST-with-kNN/blob/master/KNN_Hamming.ipynb\" target=\"_parent\"><img src=\"https://colab.research.google.com/assets/colab-badge.svg\" alt=\"Open In Colab\"/></a>"
      ]
    },
    {
      "metadata": {
        "id": "EkGZ3Pt8weEP",
        "colab_type": "code",
        "outputId": "b9394b52-0dda-4b89-8056-944f8ee40fc2",
        "colab": {
          "base_uri": "https://localhost:8080/",
          "height": 34
        }
      },
      "cell_type": "code",
      "source": [
        "from matplotlib import pyplot as plt\n",
        "from sklearn import datasets, metrics\n",
        "from sklearn.neighbors import KNeighborsClassifier\n",
        "from keras.datasets import mnist\n",
        "import pickle\n",
        "import time\n",
        "import pandas as pd"
      ],
      "execution_count": 0,
      "outputs": [
        {
          "output_type": "stream",
          "text": [
            "Using TensorFlow backend.\n"
          ],
          "name": "stderr"
        }
      ]
    },
    {
      "metadata": {
        "id": "rZR4wr_lweEW",
        "colab_type": "code",
        "outputId": "99726326-f5ac-4461-ab25-1229496ed872",
        "colab": {
          "base_uri": "https://localhost:8080/",
          "height": 101
        }
      },
      "cell_type": "code",
      "source": [
        "digits = datasets.load_digits()\n",
        "data_with_labels = list(zip(digits.images,digits.target))\n",
        "print(digits.images.shape)\n",
        "\n",
        "# hi\n",
        "(img_train, val_train),(img_test, val_test) = mnist.load_data()\n",
        "print(img_train.shape)\n",
        "print(img_test.shape)"
      ],
      "execution_count": 0,
      "outputs": [
        {
          "output_type": "stream",
          "text": [
            "(1797, 8, 8)\n",
            "Downloading data from https://s3.amazonaws.com/img-datasets/mnist.npz\n",
            "11493376/11490434 [==============================] - 1s 0us/step\n",
            "(60000, 28, 28)\n",
            "(10000, 28, 28)\n"
          ],
          "name": "stdout"
        }
      ]
    },
    {
      "metadata": {
        "id": "Zrcl9QIoweEd",
        "colab_type": "code",
        "outputId": "4a65072b-bd01-4ae6-a6ff-018d3df0b871",
        "colab": {
          "base_uri": "https://localhost:8080/",
          "height": 34
        }
      },
      "cell_type": "code",
      "source": [
        "n = len(img_train)\n",
        "data = img_train.reshape(n, -1)\n",
        "print(data.shape)"
      ],
      "execution_count": 0,
      "outputs": [
        {
          "output_type": "stream",
          "text": [
            "(60000, 784)\n"
          ],
          "name": "stdout"
        }
      ]
    },
    {
      "metadata": {
        "id": "hZ10rVJNweEm",
        "colab_type": "code",
        "colab": {}
      },
      "cell_type": "code",
      "source": [
        "Training_time=[]\n",
        "Predict_time=[]"
      ],
      "execution_count": 0,
      "outputs": []
    },
    {
      "metadata": {
        "id": "4e1fAh_WweEr",
        "colab_type": "code",
        "outputId": "810f900b-9e52-4bdc-eb4f-ebcc5f647a24",
        "colab": {
          "base_uri": "https://localhost:8080/",
          "height": 773
        }
      },
      "cell_type": "code",
      "source": [
        "for k in range (1,31,2):\n",
        "    start_time_train=time.clock()\n",
        "    knn = KNeighborsClassifier(metric = 'hamming', p=2, n_neighbors=k)\n",
        "    knn.fit(data, val_train)\n",
        "    end_time_train=time.clock()\n",
        "    print(\"K = \"+str(k))\n",
        "    print(\"Training Runing Time: \"+str( end_time_train-start_time_train))  \n",
        "    filename = 'finalized_model'+str(k)+'.sav'\n",
        "    pickle.dump(knn, open(filename, 'wb'))\n",
        "    print(\" \")\n",
        "    Training_time.append(round(end_time_train-start_time_train,2))"
      ],
      "execution_count": 0,
      "outputs": [
        {
          "output_type": "stream",
          "text": [
            "K = 1\n",
            "Training Runing Time: 30.696953999999998\n",
            " \n",
            "K = 3\n",
            "Training Runing Time: 30.96901400000001\n",
            " \n",
            "K = 5\n",
            "Training Runing Time: 30.773765999999995\n",
            " \n",
            "K = 7\n",
            "Training Runing Time: 30.756326\n",
            " \n",
            "K = 9\n",
            "Training Runing Time: 31.407791000000003\n",
            " \n",
            "K = 11\n",
            "Training Runing Time: 30.796065999999996\n",
            " \n",
            "K = 13\n",
            "Training Runing Time: 30.840040999999985\n",
            " \n",
            "K = 15\n",
            "Training Runing Time: 30.75532100000001\n",
            " \n",
            "K = 17\n",
            "Training Runing Time: 30.73938400000003\n",
            " \n",
            "K = 19\n",
            "Training Runing Time: 30.72260799999998\n",
            " \n",
            "K = 21\n",
            "Training Runing Time: 30.887200000000007\n",
            " \n",
            "K = 23\n",
            "Training Runing Time: 30.693091000000038\n",
            " \n",
            "K = 25\n",
            "Training Runing Time: 30.71495600000003\n",
            " \n",
            "K = 27\n",
            "Training Runing Time: 30.962364999999977\n",
            " \n",
            "K = 29\n",
            "Training Runing Time: 30.659583999999995\n",
            " \n"
          ],
          "name": "stdout"
        }
      ]
    },
    {
      "metadata": {
        "id": "6I5hI0bNweEv",
        "colab_type": "code",
        "outputId": "6b2a4585-88d6-4ea6-db42-e206447bf8ff",
        "colab": {
          "base_uri": "https://localhost:8080/",
          "height": 1058
        }
      },
      "cell_type": "code",
      "source": [
        "Accuracy=[]\n",
        "n = len(img_test)\n",
        "test_data = img_test.reshape(n, -1)\n",
        "print(\"Running\")\n",
        "for k in range (1,31,2):\n",
        "    filename='finalized_model'+str(k)+'.sav'\n",
        "    file=open(filename,'rb')\n",
        "    loaded_model = pickle.load(file)\n",
        "    predict_start=time.clock()\n",
        "    result = loaded_model.predict(test_data)\n",
        "    predict_end=time.clock()\n",
        "    print (\"Predict \"+str(k)+\"_NN\")\n",
        "    print(\"Pridict Runing Time: \"+str(predict_end-predict_start))\n",
        "    Predict_time.append(round(predict_end-predict_start,2))\n",
        "    num_correct=0\n",
        "    for i in range(0,len(val_test)):\n",
        "        if val_test[i] == result[i]:\n",
        "            num_correct +=1\n",
        "    print(\"Accuracy: \\n%s\" % str(float(num_correct / float(len(val_test)))))\n",
        "    Accuracy.append(float(num_correct / float(len(val_test))))\n",
        "print(\"Complete\")"
      ],
      "execution_count": 6,
      "outputs": [
        {
          "output_type": "stream",
          "text": [
            "Running\n",
            "Predict 1_NN\n",
            "Pridict Runing Time: 1233.245658\n",
            "Accuracy: \n",
            "0.828\n",
            "Predict 3_NN\n",
            "Pridict Runing Time: 1232.2256009999999\n",
            "Accuracy: \n",
            "0.8173\n",
            "Predict 5_NN\n",
            "Pridict Runing Time: 1226.8847890000002\n",
            "Accuracy: \n",
            "0.8117\n",
            "Predict 7_NN\n",
            "Pridict Runing Time: 1250.6040910000002\n",
            "Accuracy: \n",
            "0.8027\n",
            "Predict 9_NN\n",
            "Pridict Runing Time: 1249.0941199999997\n",
            "Accuracy: \n",
            "0.797\n",
            "Predict 11_NN\n",
            "Pridict Runing Time: 1232.7685110000002\n",
            "Accuracy: \n",
            "0.7934\n",
            "Predict 13_NN\n",
            "Pridict Runing Time: 1223.9685199999994\n",
            "Accuracy: \n",
            "0.7878\n",
            "Predict 15_NN\n",
            "Pridict Runing Time: 1235.060582\n",
            "Accuracy: \n",
            "0.7841\n",
            "Predict 17_NN\n",
            "Pridict Runing Time: 1238.970279000001\n",
            "Accuracy: \n",
            "0.7794\n",
            "Predict 19_NN\n",
            "Pridict Runing Time: 1266.6550889999999\n",
            "Accuracy: \n",
            "0.7756\n",
            "Predict 21_NN\n",
            "Pridict Runing Time: 1231.14005\n",
            "Accuracy: \n",
            "0.7699\n",
            "Predict 23_NN\n",
            "Pridict Runing Time: 1242.838382\n",
            "Accuracy: \n",
            "0.7671\n",
            "Predict 25_NN\n",
            "Pridict Runing Time: 1238.2882860000009\n",
            "Accuracy: \n",
            "0.7625\n",
            "Predict 27_NN\n",
            "Pridict Runing Time: 1236.5962069999987\n",
            "Accuracy: \n",
            "0.7593\n",
            "Predict 29_NN\n",
            "Pridict Runing Time: 1243.00029\n",
            "Accuracy: \n",
            "0.755\n",
            "Complete\n"
          ],
          "name": "stdout"
        }
      ]
    },
    {
      "metadata": {
        "id": "IYdpqYSNweE1",
        "colab_type": "code",
        "colab": {
          "base_uri": "https://localhost:8080/",
          "height": 286
        },
        "outputId": "2c96c70c-876b-46f7-860b-67198bb7ccad"
      },
      "cell_type": "code",
      "source": [
        "index_name = []\n",
        "headers = ['train-time','predict-time','accuracy']\n",
        "for i in range (1,31,2):\n",
        "  index_name.append(str(i)+\"_NN\")  \n",
        "list_of_result = list(zip(Training_time, Predict_time, Accuracy))\n",
        "df = pd.DataFrame(list_of_result, columns=headers, index=index_name)\n",
        "print(df)\n",
        "df.to_csv('result.csv', sep=',')"
      ],
      "execution_count": 7,
      "outputs": [
        {
          "output_type": "stream",
          "text": [
            "       train-time  predict-time  accuracy\n",
            "1_NN        30.70       1233.25    0.8280\n",
            "3_NN        30.97       1232.23    0.8173\n",
            "5_NN        30.77       1226.88    0.8117\n",
            "7_NN        30.76       1250.60    0.8027\n",
            "9_NN        31.41       1249.09    0.7970\n",
            "11_NN       30.80       1232.77    0.7934\n",
            "13_NN       30.84       1223.97    0.7878\n",
            "15_NN       30.76       1235.06    0.7841\n",
            "17_NN       30.74       1238.97    0.7794\n",
            "19_NN       30.72       1266.66    0.7756\n",
            "21_NN       30.89       1231.14    0.7699\n",
            "23_NN       30.69       1242.84    0.7671\n",
            "25_NN       30.71       1238.29    0.7625\n",
            "27_NN       30.96       1236.60    0.7593\n",
            "29_NN       30.66       1243.00    0.7550\n"
          ],
          "name": "stdout"
        }
      ]
    },
    {
      "metadata": {
        "id": "wv2tBdVKweE8",
        "colab_type": "code",
        "colab": {}
      },
      "cell_type": "code",
      "source": [
        ""
      ],
      "execution_count": 0,
      "outputs": []
    }
  ]
}