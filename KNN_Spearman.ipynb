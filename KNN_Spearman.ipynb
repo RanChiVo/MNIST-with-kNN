{
  "nbformat": 4,
  "nbformat_minor": 0,
  "metadata": {
    "colab": {
      "name": "spearman_distance.ipynb",
      "version": "0.3.2",
      "provenance": [],
      "collapsed_sections": []
    },
    "kernelspec": {
      "display_name": "Python 3",
      "language": "python",
      "name": "python3"
    }
  },
  "cells": [
    {
      "metadata": {
        "id": "58WMIh8q4O49",
        "colab_type": "code",
        "outputId": "71446762-cda6-4b5b-ca5c-0fd46536d84e",
        "colab": {
          "base_uri": "https://localhost:8080/",
          "height": 34
        }
      },
      "cell_type": "code",
      "source": [
        "from matplotlib import pyplot as plt\n",
        "from sklearn import datasets, metrics\n",
        "from sklearn.neighbors import KNeighborsClassifier\n",
        "from keras.datasets import mnist\n",
        "import pickle\n",
        "import time\n",
        "import pandas as pd\n",
        "from scipy.stats import spearmanr\n"
      ],
      "execution_count": 0,
      "outputs": [
        {
          "output_type": "stream",
          "text": [
            "Using TensorFlow backend.\n"
          ],
          "name": "stderr"
        }
      ]
    },
    {
      "metadata": {
        "id": "cD49lFDY4O5f",
        "colab_type": "code",
        "outputId": "1e43fde4-e61b-4ffa-d1a1-6796c4a159ea",
        "colab": {
          "base_uri": "https://localhost:8080/",
          "height": 84
        }
      },
      "cell_type": "code",
      "source": [
        "# load data\n",
        "(img_train, val_train),(img_test, val_test) = mnist.load_data()\n",
        "print(img_train.shape)\n",
        "print(img_test.shape)"
      ],
      "execution_count": 0,
      "outputs": [
        {
          "output_type": "stream",
          "text": [
            "Downloading data from https://s3.amazonaws.com/img-datasets/mnist.npz\n",
            "11493376/11490434 [==============================] - 1s 0us/step\n",
            "(60000, 28, 28)\n",
            "(10000, 28, 28)\n"
          ],
          "name": "stdout"
        }
      ]
    },
    {
      "metadata": {
        "id": "zZ6iVMUt4O5y",
        "colab_type": "code",
        "outputId": "f1e4ccdb-f3d5-4ed9-b4b3-2768447dfc14",
        "colab": {
          "base_uri": "https://localhost:8080/",
          "height": 34
        }
      },
      "cell_type": "code",
      "source": [
        "# convert images (matrixs) to vectors\n",
        "n = len(img_train)\n",
        "data = img_train.reshape(n, -1)\n",
        "print(data.shape)"
      ],
      "execution_count": 0,
      "outputs": [
        {
          "output_type": "stream",
          "text": [
            "(60000, 784)\n"
          ],
          "name": "stdout"
        }
      ]
    },
    {
      "metadata": {
        "id": "hY7v7__Q4O6D",
        "colab_type": "code",
        "colab": {}
      },
      "cell_type": "code",
      "source": [
        "def spearmancorr(x,y):\n",
        "    rho, pval = spearmanr(x,y, axis=0)\n",
        "    return rho * (-1)"
      ],
      "execution_count": 0,
      "outputs": []
    },
    {
      "metadata": {
        "id": "8QVQ70bI4O6V",
        "colab_type": "code",
        "colab": {}
      },
      "cell_type": "code",
      "source": [
        "# declare and asign values for variables\n",
        "max_k = 29\n",
        "min_k = 1\n",
        "dist_algo = 'spearmancorr'\n",
        "index_name = []\n",
        "train_time = []\n",
        "predict_time = []\n",
        "accuracy = []\n",
        "headers = ['train-time','predict-time','accuracy']"
      ],
      "execution_count": 0,
      "outputs": []
    },
    {
      "metadata": {
        "id": "KAp7mYil4O6m",
        "colab_type": "code",
        "outputId": "c3fea319-9226-4f4c-bcd8-9545bb09b058",
        "colab": {
          "base_uri": "https://localhost:8080/",
          "height": 1042
        }
      },
      "cell_type": "code",
      "source": [
        "# training\n",
        "for k in range(min_k, max_k+1, 2):\n",
        "    print('Training ' + str(k) + '-NN with ' + dist_algo + ' distance algorithm')\n",
        "    index_name.append(str(k) + '-NN')\n",
        "    \n",
        "    # create KNN classifier\n",
        "    start = time.time()\n",
        "    knn = KNeighborsClassifier(algorithm='ball_tree', metric = spearmancorr, p=2, n_neighbors=k)\n",
        "    knn.fit(data, val_train)\n",
        "    end = time.time()\n",
        "    print(\"Training time: %s seconds\" % str(end - start))\n",
        "    train_time.append(round(end-start,2))\n",
        "\n",
        "    # save model\n",
        "    filename = str(k) + '-NN ' + dist_algo + '.sav'\n",
        "    pickle.dump(knn, open(filename, 'wb'))\n",
        "    print(\"%s saved\\n\" %filename)\n",
        "print('Train complete!')"
      ],
      "execution_count": 7,
      "outputs": [
        {
          "output_type": "stream",
          "text": [
            "Training 1-NN with spearmancorr distance algorithm\n",
            "Training time: 480.13702511787415 seconds\n",
            "1-NN spearmancorr.sav saved\n",
            "\n",
            "Training 3-NN with spearmancorr distance algorithm\n",
            "Training time: 473.5757074356079 seconds\n",
            "3-NN spearmancorr.sav saved\n",
            "\n",
            "Training 5-NN with spearmancorr distance algorithm\n",
            "Training time: 476.1208083629608 seconds\n",
            "5-NN spearmancorr.sav saved\n",
            "\n",
            "Training 7-NN with spearmancorr distance algorithm\n",
            "Training time: 473.68279576301575 seconds\n",
            "7-NN spearmancorr.sav saved\n",
            "\n",
            "Training 9-NN with spearmancorr distance algorithm\n",
            "Training time: 475.47895407676697 seconds\n",
            "9-NN spearmancorr.sav saved\n",
            "\n",
            "Training 11-NN with spearmancorr distance algorithm\n",
            "Training time: 472.47741317749023 seconds\n",
            "11-NN spearmancorr.sav saved\n",
            "\n",
            "Training 13-NN with spearmancorr distance algorithm\n",
            "Training time: 474.6598298549652 seconds\n",
            "13-NN spearmancorr.sav saved\n",
            "\n",
            "Training 15-NN with spearmancorr distance algorithm\n",
            "Training time: 477.94314074516296 seconds\n",
            "15-NN spearmancorr.sav saved\n",
            "\n",
            "Training 17-NN with spearmancorr distance algorithm\n",
            "Training time: 477.1521589756012 seconds\n",
            "17-NN spearmancorr.sav saved\n",
            "\n",
            "Training 19-NN with spearmancorr distance algorithm\n",
            "Training time: 476.2243468761444 seconds\n",
            "19-NN spearmancorr.sav saved\n",
            "\n",
            "Training 21-NN with spearmancorr distance algorithm\n",
            "Training time: 476.94231724739075 seconds\n",
            "21-NN spearmancorr.sav saved\n",
            "\n",
            "Training 23-NN with spearmancorr distance algorithm\n",
            "Training time: 474.46289563179016 seconds\n",
            "23-NN spearmancorr.sav saved\n",
            "\n",
            "Training 25-NN with spearmancorr distance algorithm\n",
            "Training time: 473.9568681716919 seconds\n",
            "25-NN spearmancorr.sav saved\n",
            "\n",
            "Training 27-NN with spearmancorr distance algorithm\n",
            "Training time: 476.69753336906433 seconds\n",
            "27-NN spearmancorr.sav saved\n",
            "\n",
            "Training 29-NN with spearmancorr distance algorithm\n",
            "Training time: 472.63183069229126 seconds\n",
            "29-NN spearmancorr.sav saved\n",
            "\n",
            "Train complete!\n"
          ],
          "name": "stdout"
        }
      ]
    },
    {
      "metadata": {
        "id": "A45Agxyp4O65",
        "colab_type": "code",
        "colab": {}
      },
      "cell_type": "code",
      "source": [
        "# convert test images (matrixs) to vectors\n",
        "start = time.time()\n",
        "n = len(img_test)\n",
        "test_data = img_test.reshape(n, -1)"
      ],
      "execution_count": 0,
      "outputs": []
    },
    {
      "metadata": {
        "id": "qgp6r1ks4O7I",
        "colab_type": "code",
        "outputId": "141b6ccd-124e-4b6b-935e-4f832b886799",
        "colab": {
          "base_uri": "https://localhost:8080/",
          "height": 790
        }
      },
      "cell_type": "code",
      "source": [
        "# predict data\n",
        "for k in range(1, max_k+1, 2):\n",
        "    filename = str(k) + '-NN ' + dist_algo + '.sav'\n",
        "    loaded_knn = pickle.load(open(filename, 'rb'))\n",
        "    \n",
        "    start = time.time()\n",
        "    print('Predicting ' + str(k) + '-NN')\n",
        "    predicted = loaded_knn.predict(test_data)\n",
        "    print(len(predicted))\n",
        "    end = time.time()\n",
        "    print(\"Predict time: %s seconds\" % str(end - start))\n",
        "    predict_time.append(round(end-start,2))\n",
        "    \n",
        "    # calculate accuracy average\n",
        "    num_correct=0\n",
        "    for i in range(0,len(val_test)):\n",
        "        if val_test[i] == predicted[i]:\n",
        "            num_correct +=1\n",
        "    accuracy.append(float(num_correct / float(len(val_test))))\n",
        "print('Predict complete')"
      ],
      "execution_count": 9,
      "outputs": [
        {
          "output_type": "stream",
          "text": [
            "Predicting 1-NN\n",
            "10000\n",
            "Predict time: 519.2686026096344 seconds\n",
            "Predicting 3-NN\n",
            "10000\n",
            "Predict time: 516.2768034934998 seconds\n",
            "Predicting 5-NN\n",
            "10000\n",
            "Predict time: 520.6115148067474 seconds\n",
            "Predicting 7-NN\n",
            "10000\n",
            "Predict time: 519.0487415790558 seconds\n",
            "Predicting 9-NN\n",
            "10000\n",
            "Predict time: 516.5125572681427 seconds\n",
            "Predicting 11-NN\n",
            "10000\n",
            "Predict time: 512.1844000816345 seconds\n",
            "Predicting 13-NN\n",
            "10000\n",
            "Predict time: 515.3345911502838 seconds\n",
            "Predicting 15-NN\n",
            "10000\n",
            "Predict time: 517.8593020439148 seconds\n",
            "Predicting 17-NN\n",
            "10000\n",
            "Predict time: 519.0254964828491 seconds\n",
            "Predicting 19-NN\n",
            "10000\n",
            "Predict time: 517.036502122879 seconds\n",
            "Predicting 21-NN\n",
            "10000\n",
            "Predict time: 519.9543220996857 seconds\n",
            "Predicting 23-NN\n",
            "10000\n",
            "Predict time: 520.1397709846497 seconds\n",
            "Predicting 25-NN\n",
            "10000\n",
            "Predict time: 521.4888851642609 seconds\n",
            "Predicting 27-NN\n",
            "10000\n",
            "Predict time: 519.3523495197296 seconds\n",
            "Predicting 29-NN\n",
            "10000\n",
            "Predict time: 526.076936006546 seconds\n",
            "Predict complete\n"
          ],
          "name": "stdout"
        }
      ]
    },
    {
      "metadata": {
        "id": "vTCOwIqv4O7S",
        "colab_type": "code",
        "colab": {
          "base_uri": "https://localhost:8080/",
          "height": 286
        },
        "outputId": "d0fa3dfe-b8e3-435e-f73f-08d4bf5152d8"
      },
      "cell_type": "code",
      "source": [
        "# save result\n",
        "list_of_result = list(zip(train_time, predict_time, accuracy))\n",
        "df = pd.DataFrame(list_of_result, columns=headers, index=index_name)\n",
        "print(df)\n",
        "df.to_csv('result2.csv', sep=',')"
      ],
      "execution_count": 10,
      "outputs": [
        {
          "output_type": "stream",
          "text": [
            "       train-time  predict-time  accuracy\n",
            "1-NN       480.14        519.27    0.7119\n",
            "3-NN       473.58        516.28    0.5931\n",
            "5-NN       476.12        520.61    0.5432\n",
            "7-NN       473.68        519.05    0.4940\n",
            "9-NN       475.48        516.51    0.4684\n",
            "11-NN      472.48        512.18    0.4425\n",
            "13-NN      474.66        515.33    0.4103\n",
            "15-NN      477.94        517.86    0.3829\n",
            "17-NN      477.15        519.03    0.3612\n",
            "19-NN      476.22        517.04    0.3371\n",
            "21-NN      476.94        519.95    0.3139\n",
            "23-NN      474.46        520.14    0.2944\n",
            "25-NN      473.96        521.49    0.2730\n",
            "27-NN      476.70        519.35    0.2519\n",
            "29-NN      472.63        526.08    0.2314\n"
          ],
          "name": "stdout"
        }
      ]
    }
  ]
}