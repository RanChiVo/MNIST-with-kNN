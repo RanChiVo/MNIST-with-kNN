{
 "cells": [
  {
   "cell_type": "code",
   "execution_count": 1,
   "metadata": {
    "colab": {
     "base_uri": "https://localhost:8080/",
     "height": 34
    },
    "colab_type": "code",
    "executionInfo": {
     "elapsed": 2487,
     "status": "ok",
     "timestamp": 1552824223805,
     "user": {
      "displayName": "LONG PHAN VINH",
      "photoUrl": "",
      "userId": "10990611945405486574"
     },
     "user_tz": -420
    },
    "id": "77lZR3QtwMSP",
    "outputId": "a1127657-1c73-49c9-c294-e62591edb1fb"
   },
   "outputs": [
    {
     "name": "stderr",
     "output_type": "stream",
     "text": [
      "Using TensorFlow backend.\n"
     ]
    }
   ],
   "source": [
    "from matplotlib import pyplot as plt\n",
    "from sklearn import datasets, metrics\n",
    "from sklearn.neighbors import KNeighborsClassifier\n",
    "from keras.datasets import mnist\n",
    "import pickle\n",
    "import time\n",
    "import pandas as pd"
   ]
  },
  {
   "cell_type": "code",
   "execution_count": 2,
   "metadata": {
    "colab": {
     "base_uri": "https://localhost:8080/",
     "height": 85
    },
    "colab_type": "code",
    "executionInfo": {
     "elapsed": 5351,
     "status": "ok",
     "timestamp": 1552824226682,
     "user": {
      "displayName": "LONG PHAN VINH",
      "photoUrl": "",
      "userId": "10990611945405486574"
     },
     "user_tz": -420
    },
    "id": "J4h5swmawMSV",
    "outputId": "a6276c94-a0da-48e2-976d-232756c7e092"
   },
   "outputs": [
    {
     "name": "stdout",
     "output_type": "stream",
     "text": [
      "(60000, 28, 28)\n",
      "(10000, 28, 28)\n"
     ]
    }
   ],
   "source": [
    "# load data\n",
    "(img_train, val_train),(img_test, val_test) = mnist.load_data()\n",
    "print(img_train.shape)\n",
    "print(img_test.shape)"
   ]
  },
  {
   "cell_type": "code",
   "execution_count": 3,
   "metadata": {
    "colab": {
     "base_uri": "https://localhost:8080/",
     "height": 34
    },
    "colab_type": "code",
    "executionInfo": {
     "elapsed": 5336,
     "status": "ok",
     "timestamp": 1552824226683,
     "user": {
      "displayName": "LONG PHAN VINH",
      "photoUrl": "",
      "userId": "10990611945405486574"
     },
     "user_tz": -420
    },
    "id": "f_bQakCBwMSY",
    "outputId": "481a8b8e-652d-481a-94fa-a619b77c97c9"
   },
   "outputs": [
    {
     "name": "stdout",
     "output_type": "stream",
     "text": [
      "(60000, 784)\n"
     ]
    }
   ],
   "source": [
    "# convert images (matrixs) to vectors\n",
    "n = len(img_train)\n",
    "data = img_train.reshape(n, -1)\n",
    "print(data.shape)"
   ]
  },
  {
   "cell_type": "code",
   "execution_count": 4,
   "metadata": {
    "colab": {},
    "colab_type": "code",
    "id": "ylwZXnFXwMSa"
   },
   "outputs": [],
   "source": [
    "# declare and asign values for variables\n",
    "max_k = 29\n",
    "dist_algo = 'minkowski'\n",
    "index_name = []\n",
    "train_time = []\n",
    "predict_time = []\n",
    "accuracy = []\n",
    "headers = ['train-time','predict-time','accuracy']"
   ]
  },
  {
   "cell_type": "code",
   "execution_count": 5,
   "metadata": {
    "colab": {
     "base_uri": "https://localhost:8080/",
     "height": 1054
    },
    "colab_type": "code",
    "executionInfo": {
     "elapsed": 535002,
     "status": "ok",
     "timestamp": 1552824756364,
     "user": {
      "displayName": "LONG PHAN VINH",
      "photoUrl": "",
      "userId": "10990611945405486574"
     },
     "user_tz": -420
    },
    "id": "IbqkGIzqwMSc",
    "outputId": "f883bd4a-519a-44b1-dec4-073d47e3a88b"
   },
   "outputs": [
    {
     "name": "stdout",
     "output_type": "stream",
     "text": [
      "Training 1-NN with minkowski distance algorithm\n",
      "Training time: 20.350151300430298 seconds\n",
      "1-NN minkowski.sav saved\n",
      "\n",
      "Training 3-NN with minkowski distance algorithm\n",
      "Training time: 21.160536527633667 seconds\n",
      "3-NN minkowski.sav saved\n",
      "\n",
      "Training 5-NN with minkowski distance algorithm\n",
      "Training time: 20.04659652709961 seconds\n",
      "5-NN minkowski.sav saved\n",
      "\n",
      "Training 7-NN with minkowski distance algorithm\n",
      "Training time: 21.631746530532837 seconds\n",
      "7-NN minkowski.sav saved\n",
      "\n",
      "Training 9-NN with minkowski distance algorithm\n",
      "Training time: 22.265865325927734 seconds\n",
      "9-NN minkowski.sav saved\n",
      "\n",
      "Training 11-NN with minkowski distance algorithm\n",
      "Training time: 23.14009404182434 seconds\n",
      "11-NN minkowski.sav saved\n",
      "\n",
      "Training 13-NN with minkowski distance algorithm\n",
      "Training time: 22.678683280944824 seconds\n",
      "13-NN minkowski.sav saved\n",
      "\n",
      "Training 15-NN with minkowski distance algorithm\n",
      "Training time: 21.01505160331726 seconds\n",
      "15-NN minkowski.sav saved\n",
      "\n",
      "Training 17-NN with minkowski distance algorithm\n",
      "Training time: 22.275227308273315 seconds\n",
      "17-NN minkowski.sav saved\n",
      "\n",
      "Training 19-NN with minkowski distance algorithm\n",
      "Training time: 18.17266273498535 seconds\n",
      "19-NN minkowski.sav saved\n",
      "\n",
      "Training 21-NN with minkowski distance algorithm\n",
      "Training time: 21.732380151748657 seconds\n",
      "21-NN minkowski.sav saved\n",
      "\n",
      "Training 23-NN with minkowski distance algorithm\n",
      "Training time: 26.41414976119995 seconds\n",
      "23-NN minkowski.sav saved\n",
      "\n",
      "Training 25-NN with minkowski distance algorithm\n",
      "Training time: 27.14220142364502 seconds\n",
      "25-NN minkowski.sav saved\n",
      "\n",
      "Training 27-NN with minkowski distance algorithm\n",
      "Training time: 26.346418380737305 seconds\n",
      "27-NN minkowski.sav saved\n",
      "\n",
      "Training 29-NN with minkowski distance algorithm\n",
      "Training time: 24.356901168823242 seconds\n",
      "29-NN minkowski.sav saved\n",
      "\n",
      "Train complete!\n"
     ]
    }
   ],
   "source": [
    "# training\n",
    "for k in range(1, max_k+1, 2):\n",
    "    print('Training ' + str(k) + '-NN with ' + dist_algo + ' distance algorithm')\n",
    "    index_name.append(str(k) + '-NN')\n",
    "    \n",
    "    # create KNN classifier\n",
    "    start = time.time()\n",
    "    knn = KNeighborsClassifier(algorithm='auto', metric = dist_algo, p=2, n_neighbors=k)\n",
    "    knn.fit(data, val_train)\n",
    "    end = time.time()\n",
    "    print(\"Training time: %s seconds\" % str(end - start))\n",
    "    train_time.append(round(end-start,2))\n",
    "\n",
    "    # save model\n",
    "    filename = str(k) + '-NN ' + dist_algo + '.sav'\n",
    "    pickle.dump(knn, open(filename, 'wb'))\n",
    "    print(\"%s saved\\n\" %filename)\n",
    "print('Train complete!')"
   ]
  },
  {
   "cell_type": "code",
   "execution_count": 6,
   "metadata": {
    "colab": {},
    "colab_type": "code",
    "id": "Px2lOAFcwMSf"
   },
   "outputs": [],
   "source": [
    "# convert test images (matrixs) to vectors\n",
    "start = time.time()\n",
    "n = len(img_test)\n",
    "test_data = img_test.reshape(n, -1)"
   ]
  },
  {
   "cell_type": "code",
   "execution_count": 7,
   "metadata": {
    "colab": {
     "base_uri": "https://localhost:8080/",
     "height": 862
    },
    "colab_type": "code",
    "executionInfo": {
     "elapsed": 2359363,
     "status": "ok",
     "timestamp": 1552837999748,
     "user": {
      "displayName": "LONG PHAN VINH",
      "photoUrl": "",
      "userId": "10990611945405486574"
     },
     "user_tz": -420
    },
    "id": "Zpxj7iIFwMSh",
    "outputId": "ca844468-5649-4eb0-e025-59d57354c454"
   },
   "outputs": [
    {
     "name": "stdout",
     "output_type": "stream",
     "text": [
      "Predicting 1-NN\n",
      "10000\n",
      "Predict time: 873.6929380893707 seconds\n",
      "Predicting 3-NN\n",
      "10000\n",
      "Predict time: 848.7092046737671 seconds\n",
      "Predicting 5-NN\n",
      "10000\n",
      "Predict time: 894.2036201953888 seconds\n",
      "Predicting 7-NN\n",
      "10000\n",
      "Predict time: 811.653119802475 seconds\n",
      "Predicting 9-NN\n",
      "10000\n",
      "Predict time: 844.6570854187012 seconds\n",
      "Predicting 11-NN\n",
      "10000\n",
      "Predict time: 814.6990456581116 seconds\n",
      "Predicting 13-NN\n",
      "10000\n",
      "Predict time: 840.1894521713257 seconds\n",
      "Predicting 15-NN\n",
      "10000\n",
      "Predict time: 799.0764000415802 seconds\n",
      "Predicting 17-NN\n",
      "10000\n",
      "Predict time: 826.1790955066681 seconds\n",
      "Predicting 19-NN\n",
      "10000\n",
      "Predict time: 897.9032068252563 seconds\n",
      "Predicting 21-NN\n",
      "10000\n",
      "Predict time: 861.779942035675 seconds\n",
      "Predicting 23-NN\n",
      "10000\n",
      "Predict time: 853.4000067710876 seconds\n",
      "Predicting 25-NN\n",
      "10000\n",
      "Predict time: 844.5542941093445 seconds\n",
      "Predicting 27-NN\n",
      "10000\n",
      "Predict time: 869.9431896209717 seconds\n",
      "Predicting 29-NN\n",
      "10000\n",
      "Predict time: 912.558842420578 seconds\n",
      "Predict complete\n"
     ]
    }
   ],
   "source": [
    "# predict data\n",
    "for k in range(1, max_k+1, 2):\n",
    "    filename = str(k) + '-NN ' + dist_algo + '.sav'\n",
    "    loaded_knn = pickle.load(open(filename, 'rb'))\n",
    "    \n",
    "    start = time.time()\n",
    "    print('Predicting ' + str(k) + '-NN')\n",
    "    predicted = loaded_knn.predict(test_data)\n",
    "    print(len(predicted))\n",
    "    end = time.time()\n",
    "    print(\"Predict time: %s seconds\" % str(end - start))\n",
    "    predict_time.append(round(end-start,2))\n",
    "    \n",
    "    # calculate accuracy average\n",
    "    num_correct=0\n",
    "    for i in range(0,len(val_test)):\n",
    "        if val_test[i] == predicted[i]:\n",
    "            num_correct +=1\n",
    "    accuracy.append(float(num_correct / float(len(val_test))))\n",
    "print('Predict complete')"
   ]
  },
  {
   "cell_type": "code",
   "execution_count": 8,
   "metadata": {
    "colab": {
     "base_uri": "https://localhost:8080/",
     "height": 311
    },
    "colab_type": "code",
    "executionInfo": {
     "elapsed": 33,
     "status": "ok",
     "timestamp": 1552837999759,
     "user": {
      "displayName": "LONG PHAN VINH",
      "photoUrl": "",
      "userId": "10990611945405486574"
     },
     "user_tz": -420
    },
    "id": "r_TU4sWJwMSl",
    "outputId": "80fac6b3-7d29-4529-eddb-02e3f1ea2603"
   },
   "outputs": [
    {
     "name": "stdout",
     "output_type": "stream",
     "text": [
      "       train-time  predict-time  accuracy\n",
      "1-NN        20.35        873.69    0.9691\n",
      "3-NN        21.16        848.71    0.9705\n",
      "5-NN        20.05        894.20    0.9688\n",
      "7-NN        21.63        811.65    0.9694\n",
      "9-NN        22.27        844.66    0.9659\n",
      "11-NN       23.14        814.70    0.9668\n",
      "13-NN       22.68        840.19    0.9653\n",
      "15-NN       21.02        799.08    0.9633\n",
      "17-NN       22.28        826.18    0.9630\n",
      "19-NN       18.17        897.90    0.9632\n",
      "21-NN       21.73        861.78    0.9630\n",
      "23-NN       26.41        853.40    0.9619\n",
      "25-NN       27.14        844.55    0.9609\n",
      "27-NN       26.35        869.94    0.9604\n",
      "29-NN       24.36        912.56    0.9593\n"
     ]
    }
   ],
   "source": [
    "# save result\n",
    "list_of_result = list(zip(train_time, predict_time, accuracy))\n",
    "df = pd.DataFrame(list_of_result, columns=headers, index=index_name)\n",
    "print(df)\n",
    "df.to_csv('result.csv', sep=',')"
   ]
  }
 ],
 "metadata": {
  "accelerator": "GPU",
  "colab": {
   "collapsed_sections": [],
   "name": "KNN.ipynb",
   "provenance": [],
   "version": "0.3.2"
  },
  "kernelspec": {
   "display_name": "Python 3",
   "language": "python",
   "name": "python3"
  },
  "language_info": {
   "codemirror_mode": {
    "name": "ipython",
    "version": 3
   },
   "file_extension": ".py",
   "mimetype": "text/x-python",
   "name": "python",
   "nbconvert_exporter": "python",
   "pygments_lexer": "ipython3",
   "version": "3.6.8"
  }
 },
 "nbformat": 4,
 "nbformat_minor": 1
}
